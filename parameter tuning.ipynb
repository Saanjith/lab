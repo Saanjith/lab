{
 "cells": [
  {
   "cell_type": "code",
   "execution_count": 1,
   "id": "2732f63e",
   "metadata": {},
   "outputs": [
    {
     "data": {
      "text/html": [
       "<div>\n",
       "<style scoped>\n",
       "    .dataframe tbody tr th:only-of-type {\n",
       "        vertical-align: middle;\n",
       "    }\n",
       "\n",
       "    .dataframe tbody tr th {\n",
       "        vertical-align: top;\n",
       "    }\n",
       "\n",
       "    .dataframe thead th {\n",
       "        text-align: right;\n",
       "    }\n",
       "</style>\n",
       "<table border=\"1\" class=\"dataframe\">\n",
       "  <thead>\n",
       "    <tr style=\"text-align: right;\">\n",
       "      <th></th>\n",
       "      <th>customerID</th>\n",
       "      <th>gender</th>\n",
       "      <th>SeniorCitizen</th>\n",
       "      <th>Partner</th>\n",
       "      <th>Dependents</th>\n",
       "      <th>tenure</th>\n",
       "      <th>PhoneService</th>\n",
       "      <th>MultipleLines</th>\n",
       "      <th>InternetService</th>\n",
       "      <th>OnlineSecurity</th>\n",
       "      <th>...</th>\n",
       "      <th>DeviceProtection</th>\n",
       "      <th>TechSupport</th>\n",
       "      <th>StreamingTV</th>\n",
       "      <th>StreamingMovies</th>\n",
       "      <th>Contract</th>\n",
       "      <th>PaperlessBilling</th>\n",
       "      <th>PaymentMethod</th>\n",
       "      <th>MonthlyCharges</th>\n",
       "      <th>TotalCharges</th>\n",
       "      <th>Churn</th>\n",
       "    </tr>\n",
       "  </thead>\n",
       "  <tbody>\n",
       "    <tr>\n",
       "      <th>0</th>\n",
       "      <td>7590-VHVEG</td>\n",
       "      <td>Female</td>\n",
       "      <td>0</td>\n",
       "      <td>Yes</td>\n",
       "      <td>No</td>\n",
       "      <td>1</td>\n",
       "      <td>No</td>\n",
       "      <td>No phone service</td>\n",
       "      <td>DSL</td>\n",
       "      <td>No</td>\n",
       "      <td>...</td>\n",
       "      <td>No</td>\n",
       "      <td>No</td>\n",
       "      <td>No</td>\n",
       "      <td>No</td>\n",
       "      <td>Month-to-month</td>\n",
       "      <td>Yes</td>\n",
       "      <td>Electronic check</td>\n",
       "      <td>29.85</td>\n",
       "      <td>29.85</td>\n",
       "      <td>No</td>\n",
       "    </tr>\n",
       "    <tr>\n",
       "      <th>1</th>\n",
       "      <td>5575-GNVDE</td>\n",
       "      <td>Male</td>\n",
       "      <td>0</td>\n",
       "      <td>No</td>\n",
       "      <td>No</td>\n",
       "      <td>34</td>\n",
       "      <td>Yes</td>\n",
       "      <td>No</td>\n",
       "      <td>DSL</td>\n",
       "      <td>Yes</td>\n",
       "      <td>...</td>\n",
       "      <td>Yes</td>\n",
       "      <td>No</td>\n",
       "      <td>No</td>\n",
       "      <td>No</td>\n",
       "      <td>One year</td>\n",
       "      <td>No</td>\n",
       "      <td>Mailed check</td>\n",
       "      <td>56.95</td>\n",
       "      <td>1889.5</td>\n",
       "      <td>No</td>\n",
       "    </tr>\n",
       "    <tr>\n",
       "      <th>2</th>\n",
       "      <td>3668-QPYBK</td>\n",
       "      <td>Male</td>\n",
       "      <td>0</td>\n",
       "      <td>No</td>\n",
       "      <td>No</td>\n",
       "      <td>2</td>\n",
       "      <td>Yes</td>\n",
       "      <td>No</td>\n",
       "      <td>DSL</td>\n",
       "      <td>Yes</td>\n",
       "      <td>...</td>\n",
       "      <td>No</td>\n",
       "      <td>No</td>\n",
       "      <td>No</td>\n",
       "      <td>No</td>\n",
       "      <td>Month-to-month</td>\n",
       "      <td>Yes</td>\n",
       "      <td>Mailed check</td>\n",
       "      <td>53.85</td>\n",
       "      <td>108.15</td>\n",
       "      <td>Yes</td>\n",
       "    </tr>\n",
       "    <tr>\n",
       "      <th>3</th>\n",
       "      <td>7795-CFOCW</td>\n",
       "      <td>Male</td>\n",
       "      <td>0</td>\n",
       "      <td>No</td>\n",
       "      <td>No</td>\n",
       "      <td>45</td>\n",
       "      <td>No</td>\n",
       "      <td>No phone service</td>\n",
       "      <td>DSL</td>\n",
       "      <td>Yes</td>\n",
       "      <td>...</td>\n",
       "      <td>Yes</td>\n",
       "      <td>Yes</td>\n",
       "      <td>No</td>\n",
       "      <td>No</td>\n",
       "      <td>One year</td>\n",
       "      <td>No</td>\n",
       "      <td>Bank transfer (automatic)</td>\n",
       "      <td>42.30</td>\n",
       "      <td>1840.75</td>\n",
       "      <td>No</td>\n",
       "    </tr>\n",
       "    <tr>\n",
       "      <th>4</th>\n",
       "      <td>9237-HQITU</td>\n",
       "      <td>Female</td>\n",
       "      <td>0</td>\n",
       "      <td>No</td>\n",
       "      <td>No</td>\n",
       "      <td>2</td>\n",
       "      <td>Yes</td>\n",
       "      <td>No</td>\n",
       "      <td>Fiber optic</td>\n",
       "      <td>No</td>\n",
       "      <td>...</td>\n",
       "      <td>No</td>\n",
       "      <td>No</td>\n",
       "      <td>No</td>\n",
       "      <td>No</td>\n",
       "      <td>Month-to-month</td>\n",
       "      <td>Yes</td>\n",
       "      <td>Electronic check</td>\n",
       "      <td>70.70</td>\n",
       "      <td>151.65</td>\n",
       "      <td>Yes</td>\n",
       "    </tr>\n",
       "  </tbody>\n",
       "</table>\n",
       "<p>5 rows × 21 columns</p>\n",
       "</div>"
      ],
      "text/plain": [
       "   customerID  gender  SeniorCitizen Partner Dependents  tenure PhoneService  \\\n",
       "0  7590-VHVEG  Female              0     Yes         No       1           No   \n",
       "1  5575-GNVDE    Male              0      No         No      34          Yes   \n",
       "2  3668-QPYBK    Male              0      No         No       2          Yes   \n",
       "3  7795-CFOCW    Male              0      No         No      45           No   \n",
       "4  9237-HQITU  Female              0      No         No       2          Yes   \n",
       "\n",
       "      MultipleLines InternetService OnlineSecurity  ... DeviceProtection  \\\n",
       "0  No phone service             DSL             No  ...               No   \n",
       "1                No             DSL            Yes  ...              Yes   \n",
       "2                No             DSL            Yes  ...               No   \n",
       "3  No phone service             DSL            Yes  ...              Yes   \n",
       "4                No     Fiber optic             No  ...               No   \n",
       "\n",
       "  TechSupport StreamingTV StreamingMovies        Contract PaperlessBilling  \\\n",
       "0          No          No              No  Month-to-month              Yes   \n",
       "1          No          No              No        One year               No   \n",
       "2          No          No              No  Month-to-month              Yes   \n",
       "3         Yes          No              No        One year               No   \n",
       "4          No          No              No  Month-to-month              Yes   \n",
       "\n",
       "               PaymentMethod MonthlyCharges  TotalCharges Churn  \n",
       "0           Electronic check          29.85         29.85    No  \n",
       "1               Mailed check          56.95        1889.5    No  \n",
       "2               Mailed check          53.85        108.15   Yes  \n",
       "3  Bank transfer (automatic)          42.30       1840.75    No  \n",
       "4           Electronic check          70.70        151.65   Yes  \n",
       "\n",
       "[5 rows x 21 columns]"
      ]
     },
     "execution_count": 1,
     "metadata": {},
     "output_type": "execute_result"
    }
   ],
   "source": [
    "import pandas as pd\n",
    "data=pd.read_csv(r'C:\\Users\\DELL\\Downloads\\Telco-Customer-Churn.csv')\n",
    "data.head()"
   ]
  },
  {
   "cell_type": "code",
   "execution_count": 2,
   "id": "54dd3133",
   "metadata": {},
   "outputs": [
    {
     "name": "stdout",
     "output_type": "stream",
     "text": [
      "<class 'pandas.core.frame.DataFrame'>\n",
      "RangeIndex: 7043 entries, 0 to 7042\n",
      "Data columns (total 21 columns):\n",
      " #   Column            Non-Null Count  Dtype  \n",
      "---  ------            --------------  -----  \n",
      " 0   customerID        7043 non-null   object \n",
      " 1   gender            7043 non-null   object \n",
      " 2   SeniorCitizen     7043 non-null   int64  \n",
      " 3   Partner           7043 non-null   object \n",
      " 4   Dependents        7043 non-null   object \n",
      " 5   tenure            7043 non-null   int64  \n",
      " 6   PhoneService      7043 non-null   object \n",
      " 7   MultipleLines     7043 non-null   object \n",
      " 8   InternetService   7043 non-null   object \n",
      " 9   OnlineSecurity    7043 non-null   object \n",
      " 10  OnlineBackup      7043 non-null   object \n",
      " 11  DeviceProtection  7043 non-null   object \n",
      " 12  TechSupport       7043 non-null   object \n",
      " 13  StreamingTV       7043 non-null   object \n",
      " 14  StreamingMovies   7043 non-null   object \n",
      " 15  Contract          7043 non-null   object \n",
      " 16  PaperlessBilling  7043 non-null   object \n",
      " 17  PaymentMethod     7043 non-null   object \n",
      " 18  MonthlyCharges    7043 non-null   float64\n",
      " 19  TotalCharges      7043 non-null   object \n",
      " 20  Churn             7043 non-null   object \n",
      "dtypes: float64(1), int64(2), object(18)\n",
      "memory usage: 1.1+ MB\n"
     ]
    }
   ],
   "source": [
    "data.info()"
   ]
  },
  {
   "cell_type": "code",
   "execution_count": 3,
   "id": "ea66aa6f",
   "metadata": {},
   "outputs": [
    {
     "data": {
      "text/plain": [
       "Index(['customerID', 'gender', 'SeniorCitizen', 'Partner', 'Dependents',\n",
       "       'tenure', 'PhoneService', 'MultipleLines', 'InternetService',\n",
       "       'OnlineSecurity', 'OnlineBackup', 'DeviceProtection', 'TechSupport',\n",
       "       'StreamingTV', 'StreamingMovies', 'Contract', 'PaperlessBilling',\n",
       "       'PaymentMethod', 'MonthlyCharges', 'TotalCharges', 'Churn'],\n",
       "      dtype='object')"
      ]
     },
     "execution_count": 3,
     "metadata": {},
     "output_type": "execute_result"
    }
   ],
   "source": [
    "data['TotalCharges'] = data['TotalCharges'].replace(' ','0').astype(float)\n",
    "lis=data.columns\n",
    "lis\n"
   ]
  },
  {
   "cell_type": "code",
   "execution_count": 4,
   "id": "ed876752",
   "metadata": {},
   "outputs": [],
   "source": [
    "for i in lis :\n",
    "    if (data[i].dtype=='object'):\n",
    "        data[i] = data[i].astype('category')\n",
    "        data[i] = data[i].cat.codes\n",
    "            \n",
    "   "
   ]
  },
  {
   "cell_type": "code",
   "execution_count": 5,
   "id": "2406ed65",
   "metadata": {},
   "outputs": [
    {
     "name": "stdout",
     "output_type": "stream",
     "text": [
      "<class 'pandas.core.frame.DataFrame'>\n",
      "RangeIndex: 7043 entries, 0 to 7042\n",
      "Data columns (total 21 columns):\n",
      " #   Column            Non-Null Count  Dtype  \n",
      "---  ------            --------------  -----  \n",
      " 0   customerID        7043 non-null   int16  \n",
      " 1   gender            7043 non-null   int8   \n",
      " 2   SeniorCitizen     7043 non-null   int64  \n",
      " 3   Partner           7043 non-null   int8   \n",
      " 4   Dependents        7043 non-null   int8   \n",
      " 5   tenure            7043 non-null   int64  \n",
      " 6   PhoneService      7043 non-null   int8   \n",
      " 7   MultipleLines     7043 non-null   int8   \n",
      " 8   InternetService   7043 non-null   int8   \n",
      " 9   OnlineSecurity    7043 non-null   int8   \n",
      " 10  OnlineBackup      7043 non-null   int8   \n",
      " 11  DeviceProtection  7043 non-null   int8   \n",
      " 12  TechSupport       7043 non-null   int8   \n",
      " 13  StreamingTV       7043 non-null   int8   \n",
      " 14  StreamingMovies   7043 non-null   int8   \n",
      " 15  Contract          7043 non-null   int8   \n",
      " 16  PaperlessBilling  7043 non-null   int8   \n",
      " 17  PaymentMethod     7043 non-null   int8   \n",
      " 18  MonthlyCharges    7043 non-null   float64\n",
      " 19  TotalCharges      7043 non-null   float64\n",
      " 20  Churn             7043 non-null   int8   \n",
      "dtypes: float64(2), int16(1), int64(2), int8(16)\n",
      "memory usage: 344.0 KB\n"
     ]
    }
   ],
   "source": [
    "data.info()"
   ]
  },
  {
   "cell_type": "code",
   "execution_count": 6,
   "id": "2889dc20",
   "metadata": {},
   "outputs": [],
   "source": [
    "x=data.iloc[:,:-1].values\n",
    "y=data.iloc[:,-1].values"
   ]
  },
  {
   "cell_type": "code",
   "execution_count": 7,
   "id": "963c553b",
   "metadata": {},
   "outputs": [],
   "source": [
    "import warnings\n",
    "warnings.filterwarnings(\"ignore\")"
   ]
  },
  {
   "cell_type": "markdown",
   "id": "407d8769",
   "metadata": {},
   "source": [
    "# KNN"
   ]
  },
  {
   "cell_type": "code",
   "execution_count": 8,
   "id": "813f1386",
   "metadata": {
    "scrolled": true
   },
   "outputs": [
    {
     "name": "stdout",
     "output_type": "stream",
     "text": [
      "{'n_neighbors': 10}\n",
      "KNN Grid score :  0.7411622322407897\n",
      "{'n_neighbors': 10}\n",
      "KNN Random score :  0.7411622322407897\n"
     ]
    }
   ],
   "source": [
    "from sklearn.neighbors import KNeighborsClassifier\n",
    "from sklearn.model_selection import GridSearchCV,RandomizedSearchCV\n",
    "kn=KNeighborsClassifier()\n",
    "parameter = {'n_neighbors':[1,12,4,5,8,10,14,27]}\n",
    "knn_grid = GridSearchCV(kn,param_grid = parameter,scoring='accuracy',cv=5)\n",
    "knn_rand = RandomizedSearchCV(kn,param_distributions = parameter,scoring='accuracy',cv=5)\n",
    "knn_grid.fit(x,y)\n",
    "knn_rand.fit(x,y)\n",
    "print(knn_grid.best_params_)\n",
    "print(\"KNN Grid score : \",knn_grid.best_score_)\n",
    "print(knn_rand.best_params_)\n",
    "print(\"KNN Random score : \",knn_rand.best_score_)"
   ]
  },
  {
   "cell_type": "markdown",
   "id": "616d0f79",
   "metadata": {},
   "source": [
    "# Logistic "
   ]
  },
  {
   "cell_type": "code",
   "execution_count": 9,
   "id": "db4ae6fc",
   "metadata": {},
   "outputs": [
    {
     "name": "stdout",
     "output_type": "stream",
     "text": [
      "{'penalty': 'none'}\n",
      "0.802725337576331\n",
      "{'penalty': 'none'}\n",
      "0.802725337576331\n"
     ]
    }
   ],
   "source": [
    "from sklearn.model_selection import train_test_split\n",
    "x_train,x_test,y_train,y_test = train_test_split(x,y, test_size=0.25, random_state=0)\n",
    "from sklearn.preprocessing import StandardScaler\n",
    "from sklearn.metrics import  accuracy_score\n",
    "sc = StandardScaler()\n",
    "x_train = sc.fit_transform(x_train)\n",
    "x_test = sc.transform(x_test)\n",
    "from sklearn.linear_model import LogisticRegression\n",
    "reg = LogisticRegression()\n",
    "parameter = {'penalty':['l1','l2','elasticnet','none']}\n",
    "log_grid = GridSearchCV(reg,param_grid = parameter,scoring='accuracy',cv=5)\n",
    "log_rand = RandomizedSearchCV(reg,param_distributions = parameter,scoring='accuracy',cv=5)\n",
    "log_grid.fit(x_train,y_train)\n",
    "log_rand.fit(x_train,y_train)\n",
    "print(log_grid.best_params_)\n",
    "print(log_grid.best_score_)\n",
    "print(log_rand.best_params_)\n",
    "print(log_rand.best_score_)"
   ]
  },
  {
   "cell_type": "markdown",
   "id": "d94213d2",
   "metadata": {},
   "source": [
    "# Decision Tree"
   ]
  },
  {
   "cell_type": "code",
   "execution_count": 10,
   "id": "ca50858e",
   "metadata": {},
   "outputs": [
    {
     "name": "stdout",
     "output_type": "stream",
     "text": [
      "{'max_depth': 5}\n",
      "0.7931301011355572\n",
      "{'max_depth': 5}\n",
      "0.7931301011355572\n"
     ]
    }
   ],
   "source": [
    "from sklearn.tree import DecisionTreeClassifier\n",
    "log=DecisionTreeClassifier()\n",
    "from sklearn.model_selection import GridSearchCV,RandomizedSearchCV\n",
    "parameter = {'max_depth':[5,6,7,4,2,1]}\n",
    "dTree_grid = GridSearchCV(log,param_grid = parameter,scoring='accuracy',cv=5)\n",
    "dTree_rand = RandomizedSearchCV(log,param_distributions = parameter,scoring='accuracy',cv=5)\n",
    "dTree_grid.fit(x,y)\n",
    "dTree_rand.fit(x,y)\n",
    "print(dTree_grid.best_params_)\n",
    "print(dTree_grid.best_score_)\n",
    "print(dTree_rand.best_params_)\n",
    "print(dTree_rand.best_score_)"
   ]
  },
  {
   "cell_type": "markdown",
   "id": "9c84d2ae",
   "metadata": {},
   "source": [
    "# Naive Bayes"
   ]
  },
  {
   "cell_type": "code",
   "execution_count": 11,
   "id": "2557def2",
   "metadata": {},
   "outputs": [
    {
     "name": "stdout",
     "output_type": "stream",
     "text": [
      "{'var_smoothing': 0}\n",
      "0.7530896146525582\n",
      "{'var_smoothing': 0}\n",
      "0.7530896146525582\n"
     ]
    }
   ],
   "source": [
    "from sklearn.naive_bayes import GaussianNB\n",
    "nb=GaussianNB()\n",
    "parameter = {'var_smoothing':[0,1,2,3,4,5]}\n",
    "nb_grid = GridSearchCV(nb,param_grid = parameter,scoring='accuracy',cv=5)\n",
    "nb_rand = RandomizedSearchCV(nb,param_distributions = parameter,scoring='accuracy',cv=5)\n",
    "nb_grid.fit(x,y)\n",
    "nb_rand.fit(x,y)\n",
    "print(nb_grid.best_params_)\n",
    "print(nb_grid.best_score_)\n",
    "print(nb_rand.best_params_)\n",
    "print(nb_rand.best_score_)"
   ]
  },
  {
   "cell_type": "code",
   "execution_count": 12,
   "id": "6dd8f92b",
   "metadata": {},
   "outputs": [],
   "source": [
    "table={\"Algorithm\" :['KNN','Logistic','Decision Tree','Naives Bayes'],\n",
    "       'GridSearch Score' : [knn_grid.best_score_,log_grid.best_score_,dTree_grid.best_score_,nb_grid.best_score_],\n",
    "      'RandomSearch Score' : [dTree_rand.best_score_,log_rand.best_score_,dTree_rand.best_score_,nb_rand.best_score_],\n",
    "      'GridSearch Parameter':[knn_grid.best_params_,log_grid.best_params_,dTree_grid.best_params_,nb_grid.best_params_],\n",
    "      'RandomSearch Parameter':[knn_rand.best_params_,log_rand.best_params_,dTree_rand.best_params_,nb_rand.best_params_]}\n",
    "Table=pd.DataFrame(table)"
   ]
  },
  {
   "cell_type": "code",
   "execution_count": 13,
   "id": "a22a28fc",
   "metadata": {},
   "outputs": [],
   "source": [
    "Table=Table.set_index(Table[\"Algorithm\"])"
   ]
  },
  {
   "cell_type": "code",
   "execution_count": 14,
   "id": "78a63aa7",
   "metadata": {},
   "outputs": [],
   "source": [
    "Table.drop(\"Algorithm\",axis=1,inplace=True)"
   ]
  },
  {
   "cell_type": "code",
   "execution_count": 15,
   "id": "d5098056",
   "metadata": {},
   "outputs": [
    {
     "data": {
      "text/html": [
       "<div>\n",
       "<style scoped>\n",
       "    .dataframe tbody tr th:only-of-type {\n",
       "        vertical-align: middle;\n",
       "    }\n",
       "\n",
       "    .dataframe tbody tr th {\n",
       "        vertical-align: top;\n",
       "    }\n",
       "\n",
       "    .dataframe thead th {\n",
       "        text-align: right;\n",
       "    }\n",
       "</style>\n",
       "<table border=\"1\" class=\"dataframe\">\n",
       "  <thead>\n",
       "    <tr style=\"text-align: right;\">\n",
       "      <th></th>\n",
       "      <th>GridSearch Score</th>\n",
       "      <th>RandomSearch Score</th>\n",
       "      <th>GridSearch Parameter</th>\n",
       "      <th>RandomSearch Parameter</th>\n",
       "    </tr>\n",
       "    <tr>\n",
       "      <th>Algorithm</th>\n",
       "      <th></th>\n",
       "      <th></th>\n",
       "      <th></th>\n",
       "      <th></th>\n",
       "    </tr>\n",
       "  </thead>\n",
       "  <tbody>\n",
       "    <tr>\n",
       "      <th>KNN</th>\n",
       "      <td>0.741162</td>\n",
       "      <td>0.793130</td>\n",
       "      <td>{'n_neighbors': 10}</td>\n",
       "      <td>{'n_neighbors': 10}</td>\n",
       "    </tr>\n",
       "    <tr>\n",
       "      <th>Logistic</th>\n",
       "      <td>0.802725</td>\n",
       "      <td>0.802725</td>\n",
       "      <td>{'penalty': 'none'}</td>\n",
       "      <td>{'penalty': 'none'}</td>\n",
       "    </tr>\n",
       "    <tr>\n",
       "      <th>Decision Tree</th>\n",
       "      <td>0.793130</td>\n",
       "      <td>0.793130</td>\n",
       "      <td>{'max_depth': 5}</td>\n",
       "      <td>{'max_depth': 5}</td>\n",
       "    </tr>\n",
       "    <tr>\n",
       "      <th>Naives Bayes</th>\n",
       "      <td>0.753090</td>\n",
       "      <td>0.753090</td>\n",
       "      <td>{'var_smoothing': 0}</td>\n",
       "      <td>{'var_smoothing': 0}</td>\n",
       "    </tr>\n",
       "  </tbody>\n",
       "</table>\n",
       "</div>"
      ],
      "text/plain": [
       "               GridSearch Score  RandomSearch Score  GridSearch Parameter  \\\n",
       "Algorithm                                                                   \n",
       "KNN                    0.741162            0.793130   {'n_neighbors': 10}   \n",
       "Logistic               0.802725            0.802725   {'penalty': 'none'}   \n",
       "Decision Tree          0.793130            0.793130      {'max_depth': 5}   \n",
       "Naives Bayes           0.753090            0.753090  {'var_smoothing': 0}   \n",
       "\n",
       "              RandomSearch Parameter  \n",
       "Algorithm                             \n",
       "KNN              {'n_neighbors': 10}  \n",
       "Logistic         {'penalty': 'none'}  \n",
       "Decision Tree       {'max_depth': 5}  \n",
       "Naives Bayes    {'var_smoothing': 0}  "
      ]
     },
     "execution_count": 15,
     "metadata": {},
     "output_type": "execute_result"
    }
   ],
   "source": [
    "Table"
   ]
  },
  {
   "cell_type": "code",
   "execution_count": null,
   "id": "72e93ef9",
   "metadata": {},
   "outputs": [],
   "source": []
  }
 ],
 "metadata": {
  "kernelspec": {
   "display_name": "base",
   "language": "python",
   "name": "python3"
  },
  "language_info": {
   "codemirror_mode": {
    "name": "ipython",
    "version": 3
   },
   "file_extension": ".py",
   "mimetype": "text/x-python",
   "name": "python",
   "nbconvert_exporter": "python",
   "pygments_lexer": "ipython3",
   "version": "3.9.7"
  },
  "vscode": {
   "interpreter": {
    "hash": "2da9867cadbabac8c31cb6b9b1bd61d640e6e352e8027d0fc6193e57db639e3c"
   }
  }
 },
 "nbformat": 4,
 "nbformat_minor": 5
}
