{
 "cells": [
  {
   "cell_type": "code",
   "execution_count": 1,
   "id": "ac2dce07",
   "metadata": {},
   "outputs": [],
   "source": [
    "import pandas as pd"
   ]
  },
  {
   "cell_type": "code",
   "execution_count": 2,
   "id": "ccb51544",
   "metadata": {},
   "outputs": [],
   "source": [
    "data=pd.read_csv(r\"C:\\Users\\Admin\\Downloads\\telecom_customer_churn.csv\")"
   ]
  },
  {
   "cell_type": "code",
   "execution_count": 3,
   "id": "4d7fe6c8",
   "metadata": {},
   "outputs": [
    {
     "name": "stdout",
     "output_type": "stream",
     "text": [
      "<class 'pandas.core.frame.DataFrame'>\n",
      "RangeIndex: 6589 entries, 0 to 6588\n",
      "Data columns (total 38 columns):\n",
      " #   Column                             Non-Null Count  Dtype  \n",
      "---  ------                             --------------  -----  \n",
      " 0   Customer ID                        6589 non-null   object \n",
      " 1   Gender                             6589 non-null   object \n",
      " 2   Age                                6589 non-null   int64  \n",
      " 3   Married                            6589 non-null   object \n",
      " 4   Number of Dependents               6589 non-null   int64  \n",
      " 5   City                               6589 non-null   object \n",
      " 6   Zip Code                           6589 non-null   int64  \n",
      " 7   Latitude                           6589 non-null   float64\n",
      " 8   Longitude                          6589 non-null   float64\n",
      " 9   Number of Referrals                6589 non-null   int64  \n",
      " 10  Tenure in Months                   6589 non-null   int64  \n",
      " 11  Offer                              6589 non-null   object \n",
      " 12  Phone Service                      6589 non-null   object \n",
      " 13  Avg Monthly Long Distance Charges  5945 non-null   float64\n",
      " 14  Multiple Lines                     5945 non-null   object \n",
      " 15  Internet Service                   6589 non-null   object \n",
      " 16  Internet Type                      5245 non-null   object \n",
      " 17  Avg Monthly GB Download            5245 non-null   float64\n",
      " 18  Online Security                    5245 non-null   object \n",
      " 19  Online Backup                      5245 non-null   object \n",
      " 20  Device Protection Plan             5245 non-null   object \n",
      " 21  Premium Tech Support               5245 non-null   object \n",
      " 22  Streaming TV                       5245 non-null   object \n",
      " 23  Streaming Movies                   5245 non-null   object \n",
      " 24  Streaming Music                    5245 non-null   object \n",
      " 25  Unlimited Data                     5245 non-null   object \n",
      " 26  Contract                           6589 non-null   object \n",
      " 27  Paperless Billing                  6589 non-null   object \n",
      " 28  Payment Method                     6589 non-null   object \n",
      " 29  Monthly Charge                     6589 non-null   float64\n",
      " 30  Total Charges                      6589 non-null   float64\n",
      " 31  Total Refunds                      6589 non-null   float64\n",
      " 32  Total Extra Data Charges           6589 non-null   int64  \n",
      " 33  Total Long Distance Charges        6589 non-null   float64\n",
      " 34  Total Revenue                      6589 non-null   float64\n",
      " 35  Customer Status                    6589 non-null   int64  \n",
      " 36  Churn Category                     1869 non-null   object \n",
      " 37  Churn Reason                       1869 non-null   object \n",
      "dtypes: float64(9), int64(7), object(22)\n",
      "memory usage: 1.9+ MB\n"
     ]
    }
   ],
   "source": [
    "data.info()"
   ]
  },
  {
   "cell_type": "code",
   "execution_count": 4,
   "id": "18b6e93d",
   "metadata": {},
   "outputs": [],
   "source": [
    "data[\"Avg Monthly Long Distance Charges\"]=data[\"Avg Monthly Long Distance Charges\"].fillna(0)"
   ]
  },
  {
   "cell_type": "code",
   "execution_count": 5,
   "id": "334c7a1d",
   "metadata": {},
   "outputs": [],
   "source": [
    "data[\"Avg Monthly GB Download\"]=data[\"Avg Monthly GB Download\"].fillna(0)"
   ]
  },
  {
   "cell_type": "code",
   "execution_count": 6,
   "id": "9fc68800",
   "metadata": {},
   "outputs": [],
   "source": [
    "data.drop(['Customer ID','Churn Category','Churn Reason'],axis=1,inplace=True)\n",
    "o=data.select_dtypes(include=\"object\")"
   ]
  },
  {
   "cell_type": "code",
   "execution_count": 7,
   "id": "7ee7779d",
   "metadata": {},
   "outputs": [],
   "source": [
    "num = data.select_dtypes(exclude=(object)).columns\n",
    "num = num.drop('Customer Status')"
   ]
  },
  {
   "cell_type": "code",
   "execution_count": 8,
   "id": "ba84ef89",
   "metadata": {},
   "outputs": [],
   "source": [
    "for i in o:\n",
    "    k=pd.get_dummies(data[i],drop_first=False,prefix=i)\n",
    "    data = data.join(k)\n",
    "    data.drop(i,inplace=True,axis=1)"
   ]
  },
  {
   "cell_type": "code",
   "execution_count": 14,
   "id": "2fc8a296",
   "metadata": {},
   "outputs": [],
   "source": [
    "x = data.drop('Customer Status',axis = 1)\n",
    "y = data['Customer Status']\n",
    "from sklearn.model_selection import train_test_split\n",
    "x_train,x_test,y_train,y_test = train_test_split(x,y,test_size=0.3,\n",
    "                                                random_state=0)"
   ]
  },
  {
   "cell_type": "code",
   "execution_count": 15,
   "id": "2341534b",
   "metadata": {},
   "outputs": [
    {
     "name": "stderr",
     "output_type": "stream",
     "text": [
      "C:\\ProgramData\\Anaconda3\\lib\\site-packages\\pandas\\core\\frame.py:3678: SettingWithCopyWarning: \n",
      "A value is trying to be set on a copy of a slice from a DataFrame.\n",
      "Try using .loc[row_indexer,col_indexer] = value instead\n",
      "\n",
      "See the caveats in the documentation: https://pandas.pydata.org/pandas-docs/stable/user_guide/indexing.html#returning-a-view-versus-a-copy\n",
      "  self[col] = igetitem(value, i)\n",
      "C:\\ProgramData\\Anaconda3\\lib\\site-packages\\pandas\\core\\frame.py:3678: SettingWithCopyWarning: \n",
      "A value is trying to be set on a copy of a slice from a DataFrame.\n",
      "Try using .loc[row_indexer,col_indexer] = value instead\n",
      "\n",
      "See the caveats in the documentation: https://pandas.pydata.org/pandas-docs/stable/user_guide/indexing.html#returning-a-view-versus-a-copy\n",
      "  self[col] = igetitem(value, i)\n"
     ]
    }
   ],
   "source": [
    "from sklearn.preprocessing import StandardScaler\n",
    "sc = StandardScaler()\n",
    "x_train[num] = sc.fit_transform(x_train[num])\n",
    "x_test[num]=sc.transform(x_test[num])"
   ]
  },
  {
   "cell_type": "code",
   "execution_count": 16,
   "id": "450094b9",
   "metadata": {},
   "outputs": [
    {
     "name": "stderr",
     "output_type": "stream",
     "text": [
      "C:\\ProgramData\\Anaconda3\\lib\\site-packages\\sklearn\\linear_model\\_logistic.py:763: ConvergenceWarning: lbfgs failed to converge (status=1):\n",
      "STOP: TOTAL NO. of ITERATIONS REACHED LIMIT.\n",
      "\n",
      "Increase the number of iterations (max_iter) or scale the data as shown in:\n",
      "    https://scikit-learn.org/stable/modules/preprocessing.html\n",
      "Please also refer to the documentation for alternative solver options:\n",
      "    https://scikit-learn.org/stable/modules/linear_model.html#logistic-regression\n",
      "  n_iter_i = _check_optimize_result(\n"
     ]
    }
   ],
   "source": [
    "from sklearn.linear_model import LogisticRegression\n",
    "lr=LogisticRegression()\n",
    "lr.fit(x_train,y_train)\n",
    "pred=lr.predict(x_test)"
   ]
  },
  {
   "cell_type": "code",
   "execution_count": 17,
   "id": "dffd9a7c",
   "metadata": {},
   "outputs": [
    {
     "data": {
      "text/plain": [
       "array([[ 390,  149],\n",
       "       [ 163, 1275]], dtype=int64)"
      ]
     },
     "execution_count": 17,
     "metadata": {},
     "output_type": "execute_result"
    }
   ],
   "source": [
    "from sklearn.metrics import confusion_matrix,accuracy_score\n",
    "confusion_matrix(pred,y_test)"
   ]
  },
  {
   "cell_type": "code",
   "execution_count": 18,
   "id": "c19b7178",
   "metadata": {},
   "outputs": [
    {
     "data": {
      "text/plain": [
       "0.842185128983308"
      ]
     },
     "execution_count": 18,
     "metadata": {},
     "output_type": "execute_result"
    }
   ],
   "source": [
    "accuracy_score(pred,y_test)"
   ]
  },
  {
   "cell_type": "code",
   "execution_count": null,
   "id": "5be8bb8c",
   "metadata": {},
   "outputs": [],
   "source": []
  }
 ],
 "metadata": {
  "kernelspec": {
   "display_name": "Python 3 (ipykernel)",
   "language": "python",
   "name": "python3"
  },
  "language_info": {
   "codemirror_mode": {
    "name": "ipython",
    "version": 3
   },
   "file_extension": ".py",
   "mimetype": "text/x-python",
   "name": "python",
   "nbconvert_exporter": "python",
   "pygments_lexer": "ipython3",
   "version": "3.9.7"
  }
 },
 "nbformat": 4,
 "nbformat_minor": 5
}
