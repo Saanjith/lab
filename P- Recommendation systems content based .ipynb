{
 "cells": [
  {
   "cell_type": "code",
   "execution_count": 1,
   "id": "40d3d626",
   "metadata": {},
   "outputs": [],
   "source": [
    "#content based\n",
    "import pandas as pd\n",
    "#from sklearn.metrics.pairwise import cosine_similarity\n",
    "from sklearn.feature_extraction.text import TfidfVectorizer"
   ]
  },
  {
   "cell_type": "code",
   "execution_count": 2,
   "id": "9d343f0b",
   "metadata": {},
   "outputs": [],
   "source": [
    "data=pd.read_csv(r\"recommend.csv\")"
   ]
  },
  {
   "cell_type": "code",
   "execution_count": 3,
   "id": "3fcbf21b",
   "metadata": {},
   "outputs": [
    {
     "data": {
      "text/html": [
       "<div>\n",
       "<style scoped>\n",
       "    .dataframe tbody tr th:only-of-type {\n",
       "        vertical-align: middle;\n",
       "    }\n",
       "\n",
       "    .dataframe tbody tr th {\n",
       "        vertical-align: top;\n",
       "    }\n",
       "\n",
       "    .dataframe thead th {\n",
       "        text-align: right;\n",
       "    }\n",
       "</style>\n",
       "<table border=\"1\" class=\"dataframe\">\n",
       "  <thead>\n",
       "    <tr style=\"text-align: right;\">\n",
       "      <th></th>\n",
       "      <th>movie_id</th>\n",
       "      <th>title</th>\n",
       "      <th>genres</th>\n",
       "      <th>actors</th>\n",
       "      <th>director</th>\n",
       "      <th>description</th>\n",
       "    </tr>\n",
       "  </thead>\n",
       "  <tbody>\n",
       "    <tr>\n",
       "      <th>0</th>\n",
       "      <td>1</td>\n",
       "      <td>The Shawshank Redemption</td>\n",
       "      <td>Drama</td>\n",
       "      <td>Morgan</td>\n",
       "      <td>Frank D</td>\n",
       "      <td>Two imprisoned men bond over a number of years...</td>\n",
       "    </tr>\n",
       "    <tr>\n",
       "      <th>1</th>\n",
       "      <td>2</td>\n",
       "      <td>The Godfather</td>\n",
       "      <td>Crime</td>\n",
       "      <td>Marlon</td>\n",
       "      <td>Francis F</td>\n",
       "      <td>The aging patriarch of an organized crime dyna...</td>\n",
       "    </tr>\n",
       "    <tr>\n",
       "      <th>2</th>\n",
       "      <td>3</td>\n",
       "      <td>The Dark Knight</td>\n",
       "      <td>Action</td>\n",
       "      <td>Christian</td>\n",
       "      <td>Christopher Nolan</td>\n",
       "      <td>When the menace known as the Joker wreaks havo...</td>\n",
       "    </tr>\n",
       "    <tr>\n",
       "      <th>3</th>\n",
       "      <td>4</td>\n",
       "      <td>Inception</td>\n",
       "      <td>Action</td>\n",
       "      <td>Leonardo</td>\n",
       "      <td>Christopher Nolan</td>\n",
       "      <td>A thief who steals corporate secrets through t...</td>\n",
       "    </tr>\n",
       "    <tr>\n",
       "      <th>4</th>\n",
       "      <td>5</td>\n",
       "      <td>Forrest Gump</td>\n",
       "      <td>Drama</td>\n",
       "      <td>Tom</td>\n",
       "      <td>Robert Zemeckis</td>\n",
       "      <td>The presidencies of Kennedy and Johnson, the e...</td>\n",
       "    </tr>\n",
       "  </tbody>\n",
       "</table>\n",
       "</div>"
      ],
      "text/plain": [
       "   movie_id                     title  genres     actors           director  \\\n",
       "0         1  The Shawshank Redemption   Drama     Morgan            Frank D   \n",
       "1         2             The Godfather   Crime     Marlon          Francis F   \n",
       "2         3           The Dark Knight  Action  Christian  Christopher Nolan   \n",
       "3         4                 Inception  Action   Leonardo  Christopher Nolan   \n",
       "4         5              Forrest Gump   Drama        Tom    Robert Zemeckis   \n",
       "\n",
       "                                         description  \n",
       "0  Two imprisoned men bond over a number of years...  \n",
       "1  The aging patriarch of an organized crime dyna...  \n",
       "2  When the menace known as the Joker wreaks havo...  \n",
       "3  A thief who steals corporate secrets through t...  \n",
       "4  The presidencies of Kennedy and Johnson, the e...  "
      ]
     },
     "execution_count": 3,
     "metadata": {},
     "output_type": "execute_result"
    }
   ],
   "source": [
    "data"
   ]
  },
  {
   "cell_type": "code",
   "execution_count": 4,
   "id": "12247638",
   "metadata": {},
   "outputs": [],
   "source": [
    "#tfidf calculation\n",
    "tfidf = TfidfVectorizer(stop_words='english')\n",
    "tfidf_matrix = tfidf.fit_transform(data['director'])\n",
    "#director column is used to calculate tf-idf"
   ]
  },
  {
   "cell_type": "code",
   "execution_count": 5,
   "id": "0b8a6438",
   "metadata": {},
   "outputs": [
    {
     "data": {
      "text/plain": [
       "0              Frank D\n",
       "1            Francis F\n",
       "2    Christopher Nolan\n",
       "3    Christopher Nolan\n",
       "4      Robert Zemeckis\n",
       "Name: director, dtype: object"
      ]
     },
     "execution_count": 5,
     "metadata": {},
     "output_type": "execute_result"
    }
   ],
   "source": [
    "data['director']"
   ]
  },
  {
   "cell_type": "code",
   "execution_count": 6,
   "id": "30479e44",
   "metadata": {},
   "outputs": [],
   "source": [
    "#tfidf.vocabulary_"
   ]
  },
  {
   "cell_type": "code",
   "execution_count": 7,
   "id": "f91f9a34",
   "metadata": {},
   "outputs": [
    {
     "data": {
      "text/html": [
       "<div>\n",
       "<style scoped>\n",
       "    .dataframe tbody tr th:only-of-type {\n",
       "        vertical-align: middle;\n",
       "    }\n",
       "\n",
       "    .dataframe tbody tr th {\n",
       "        vertical-align: top;\n",
       "    }\n",
       "\n",
       "    .dataframe thead th {\n",
       "        text-align: right;\n",
       "    }\n",
       "</style>\n",
       "<table border=\"1\" class=\"dataframe\">\n",
       "  <thead>\n",
       "    <tr style=\"text-align: right;\">\n",
       "      <th></th>\n",
       "      <th>movie_id</th>\n",
       "      <th>title</th>\n",
       "      <th>genres</th>\n",
       "      <th>actors</th>\n",
       "      <th>director</th>\n",
       "      <th>description</th>\n",
       "    </tr>\n",
       "  </thead>\n",
       "  <tbody>\n",
       "    <tr>\n",
       "      <th>0</th>\n",
       "      <td>1</td>\n",
       "      <td>The Shawshank Redemption</td>\n",
       "      <td>Drama</td>\n",
       "      <td>Morgan</td>\n",
       "      <td>Frank D</td>\n",
       "      <td>Two imprisoned men bond over a number of years...</td>\n",
       "    </tr>\n",
       "    <tr>\n",
       "      <th>1</th>\n",
       "      <td>2</td>\n",
       "      <td>The Godfather</td>\n",
       "      <td>Crime</td>\n",
       "      <td>Marlon</td>\n",
       "      <td>Francis F</td>\n",
       "      <td>The aging patriarch of an organized crime dyna...</td>\n",
       "    </tr>\n",
       "    <tr>\n",
       "      <th>2</th>\n",
       "      <td>3</td>\n",
       "      <td>The Dark Knight</td>\n",
       "      <td>Action</td>\n",
       "      <td>Christian</td>\n",
       "      <td>Christopher Nolan</td>\n",
       "      <td>When the menace known as the Joker wreaks havo...</td>\n",
       "    </tr>\n",
       "    <tr>\n",
       "      <th>3</th>\n",
       "      <td>4</td>\n",
       "      <td>Inception</td>\n",
       "      <td>Action</td>\n",
       "      <td>Leonardo</td>\n",
       "      <td>Christopher Nolan</td>\n",
       "      <td>A thief who steals corporate secrets through t...</td>\n",
       "    </tr>\n",
       "    <tr>\n",
       "      <th>4</th>\n",
       "      <td>5</td>\n",
       "      <td>Forrest Gump</td>\n",
       "      <td>Drama</td>\n",
       "      <td>Tom</td>\n",
       "      <td>Robert Zemeckis</td>\n",
       "      <td>The presidencies of Kennedy and Johnson, the e...</td>\n",
       "    </tr>\n",
       "  </tbody>\n",
       "</table>\n",
       "</div>"
      ],
      "text/plain": [
       "   movie_id                     title  genres     actors           director  \\\n",
       "0         1  The Shawshank Redemption   Drama     Morgan            Frank D   \n",
       "1         2             The Godfather   Crime     Marlon          Francis F   \n",
       "2         3           The Dark Knight  Action  Christian  Christopher Nolan   \n",
       "3         4                 Inception  Action   Leonardo  Christopher Nolan   \n",
       "4         5              Forrest Gump   Drama        Tom    Robert Zemeckis   \n",
       "\n",
       "                                         description  \n",
       "0  Two imprisoned men bond over a number of years...  \n",
       "1  The aging patriarch of an organized crime dyna...  \n",
       "2  When the menace known as the Joker wreaks havo...  \n",
       "3  A thief who steals corporate secrets through t...  \n",
       "4  The presidencies of Kennedy and Johnson, the e...  "
      ]
     },
     "execution_count": 7,
     "metadata": {},
     "output_type": "execute_result"
    }
   ],
   "source": [
    "data"
   ]
  },
  {
   "cell_type": "code",
   "execution_count": 8,
   "id": "9796e296",
   "metadata": {},
   "outputs": [],
   "source": [
    "import numpy as np"
   ]
  },
  {
   "cell_type": "code",
   "execution_count": 9,
   "id": "f4af5167",
   "metadata": {},
   "outputs": [],
   "source": [
    "vect =  tfidf.transform(list(data['director'])).toarray() #\n",
    "s1 = np.array(vect[2])\n",
    "s2 = np.array(vect[3])"
   ]
  },
  {
   "cell_type": "code",
   "execution_count": 10,
   "id": "1f30a98f",
   "metadata": {},
   "outputs": [
    {
     "data": {
      "text/plain": [
       "array([0.70710678, 0.        , 0.        , 0.70710678, 0.        ,\n",
       "       0.        ])"
      ]
     },
     "execution_count": 10,
     "metadata": {},
     "output_type": "execute_result"
    }
   ],
   "source": [
    "s1"
   ]
  },
  {
   "cell_type": "code",
   "execution_count": 11,
   "id": "bd3230ee",
   "metadata": {},
   "outputs": [],
   "source": [
    "#s2 = s2.reshape(-1 , 1)"
   ]
  },
  {
   "cell_type": "code",
   "execution_count": 12,
   "id": "ef17148c",
   "metadata": {},
   "outputs": [],
   "source": [
    "#s1 = s1.reshape(-1 , 1)"
   ]
  },
  {
   "cell_type": "code",
   "execution_count": 13,
   "id": "2342b2a9",
   "metadata": {},
   "outputs": [],
   "source": [
    "# Compute cosine similarity matrix\n",
    "def cosine(idx,a):\n",
    "    import math\n",
    "    s1 = np.array(vect[idx])\n",
    "    s2 = np.array(vect[a])\n",
    "    dot=np.dot(s1,s2)\n",
    "    magnitude1=math.sqrt(sum(pow(element, 2) for element in s1))\n",
    "    magnitude2=math.sqrt(sum(pow(element, 2) for element in s2))\n",
    "    cosine_sim=dot/(magnitude1*magnitude2)\n",
    "    cosine_sim=int(cosine_sim)\n",
    "    return cosine_sim"
   ]
  },
  {
   "cell_type": "code",
   "execution_count": 14,
   "id": "00ab8d2d",
   "metadata": {},
   "outputs": [],
   "source": [
    "# Get indices and titles of all movies\n",
    "indices = pd.Series(data.index, index=data['title']).drop_duplicates()"
   ]
  },
  {
   "cell_type": "code",
   "execution_count": 15,
   "id": "aa59437e",
   "metadata": {},
   "outputs": [
    {
     "data": {
      "text/plain": [
       "title\n",
       "The Shawshank Redemption    0\n",
       "dtype: int64"
      ]
     },
     "execution_count": 15,
     "metadata": {},
     "output_type": "execute_result"
    }
   ],
   "source": [
    "indices[:1]"
   ]
  },
  {
   "cell_type": "code",
   "execution_count": 16,
   "id": "971a81c4",
   "metadata": {},
   "outputs": [],
   "source": [
    "def get_recommendations(title,indices=indices):\n",
    "    # Get index of the movie\n",
    "    idx = indices[title]\n",
    "    print(idx)\n",
    "\n",
    "    # Get similarity scores of all movies\n",
    "    sim_scores=[]\n",
    "    indices_taken={}\n",
    "    for i in indices:\n",
    "        if i!=idx: #idx is the index of the movie we want it to recommend\n",
    "            print(\"i is\",i)\n",
    "            print(idx)\n",
    "            print(i)\n",
    "            value=cosine(idx,i)\n",
    "            sim_scores.append(value)\n",
    "            print(\"sim scores is\",sim_scores)\n",
    "            indices_taken[i]=value\n",
    "    print(sim_scores)\n",
    "    print(\"indices_taken is\",indices_taken)\n",
    "\n",
    "    # Sort movies by similarity score\n",
    "    dict={}\n",
    "    sim_scores.sort(reverse=True)\n",
    "    for w in sorted(indices_taken, key=indices_taken.get, reverse=True):\n",
    "        print(w, indices_taken[w])\n",
    "        dict[w]=indices_taken[w]\n",
    "    \n",
    "    # Get indices of top 1 most similar movies\n",
    "    sim_scores = sim_scores[0:1]\n",
    "    print(\"Top 2 sim_scores are\",sim_scores)\n",
    "    print(\"Top 2 movies are\",list(dict.items())[:1])\n",
    "    for i in list(dict.items())[:1]:\n",
    "        print(i[0])\n",
    "        val=i[0]\n",
    "        #val is index of most similar item to be recommended\n",
    "        print(\"Recommendation:\",indices[val:val+1])"
   ]
  },
  {
   "cell_type": "code",
   "execution_count": 17,
   "id": "f0abc3a8",
   "metadata": {},
   "outputs": [
    {
     "name": "stdout",
     "output_type": "stream",
     "text": [
      "2\n",
      "i is 0\n",
      "2\n",
      "0\n",
      "sim scores is [0]\n",
      "i is 1\n",
      "2\n",
      "1\n",
      "sim scores is [0, 0]\n",
      "i is 3\n",
      "2\n",
      "3\n",
      "sim scores is [0, 0, 1]\n",
      "i is 4\n",
      "2\n",
      "4\n",
      "sim scores is [0, 0, 1, 0]\n",
      "[0, 0, 1, 0]\n",
      "indices_taken is {0: 0, 1: 0, 3: 1, 4: 0}\n",
      "3 1\n",
      "0 0\n",
      "1 0\n",
      "4 0\n",
      "Top 2 sim_scores are [1]\n",
      "Top 2 movies are [(3, 1)]\n",
      "3\n",
      "Recommendation: title\n",
      "Inception    3\n",
      "dtype: int64\n"
     ]
    }
   ],
   "source": [
    "value=get_recommendations('The Dark Knight',indices)"
   ]
  },
  {
   "cell_type": "code",
   "execution_count": 18,
   "id": "3c9de91b",
   "metadata": {},
   "outputs": [],
   "source": [
    "value"
   ]
  },
  {
   "cell_type": "code",
   "execution_count": null,
   "id": "4686b619",
   "metadata": {},
   "outputs": [],
   "source": []
  }
 ],
 "metadata": {
  "kernelspec": {
   "display_name": "Python 3 (ipykernel)",
   "language": "python",
   "name": "python3"
  },
  "language_info": {
   "codemirror_mode": {
    "name": "ipython",
    "version": 3
   },
   "file_extension": ".py",
   "mimetype": "text/x-python",
   "name": "python",
   "nbconvert_exporter": "python",
   "pygments_lexer": "ipython3",
   "version": "3.9.12"
  }
 },
 "nbformat": 4,
 "nbformat_minor": 5
}
