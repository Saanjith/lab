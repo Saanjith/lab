{
 "cells": [
  {
   "cell_type": "code",
   "execution_count": 1,
   "id": "b7856dbb",
   "metadata": {},
   "outputs": [],
   "source": [
    "import pandas as pd\n",
    "import numpy as np"
   ]
  },
  {
   "cell_type": "code",
   "execution_count": 2,
   "id": "7ffc5d19",
   "metadata": {},
   "outputs": [],
   "source": [
    "df= pd.read_csv(r'C:\\Users\\krish\\Downloads\\classification.csv')"
   ]
  },
  {
   "cell_type": "code",
   "execution_count": 3,
   "id": "087838cc",
   "metadata": {},
   "outputs": [
    {
     "data": {
      "text/plain": [
       "array([18, 19, 20, 21, 22, 23, 24, 25, 26, 27, 28, 29, 30, 31, 32, 33, 34,\n",
       "       35, 36, 37, 38, 39, 40, 41, 42, 43, 44, 45, 46, 47, 48, 49, 50, 51,\n",
       "       52, 53, 54, 55, 56, 57, 58, 59, 60], dtype=int64)"
      ]
     },
     "execution_count": 3,
     "metadata": {},
     "output_type": "execute_result"
    }
   ],
   "source": [
    "age=df[\"Age\"].unique()\n",
    "age.sort()\n",
    "age"
   ]
  },
  {
   "cell_type": "code",
   "execution_count": 4,
   "id": "1ada912e",
   "metadata": {},
   "outputs": [
    {
     "data": {
      "text/plain": [
       "array([ 15000,  16000,  17000,  18000,  19000,  20000,  21000,  22000,\n",
       "        23000,  25000,  26000,  27000,  28000,  29000,  30000,  31000,\n",
       "        32000,  33000,  34000,  35000,  36000,  37000,  38000,  39000,\n",
       "        41000,  42000,  43000,  44000,  45000,  46000,  47000,  48000,\n",
       "        49000,  50000,  51000,  52000,  53000,  54000,  55000,  57000,\n",
       "        58000,  59000,  60000,  61000,  62000,  63000,  64000,  65000,\n",
       "        66000,  68000,  69000,  70000,  71000,  72000,  73000,  74000,\n",
       "        75000,  76000,  77000,  78000,  79000,  80000,  81000,  82000,\n",
       "        83000,  84000,  85000,  86000,  87000,  88000,  89000,  90000,\n",
       "        91000,  93000,  95000,  96000,  97000,  99000, 100000, 101000,\n",
       "       102000, 104000, 105000, 106000, 107000, 108000, 112000, 113000,\n",
       "       114000, 115000, 116000, 117000, 118000, 119000, 120000, 122000,\n",
       "       123000, 125000, 126000, 129000, 130000, 131000, 133000, 134000,\n",
       "       135000, 137000, 138000, 139000, 141000, 142000, 143000, 144000,\n",
       "       146000, 147000, 148000, 149000, 150000], dtype=int64)"
      ]
     },
     "execution_count": 4,
     "metadata": {},
     "output_type": "execute_result"
    }
   ],
   "source": [
    "est=df[\"EstimatedSalary\"].unique()\n",
    "est.sort()\n",
    "est"
   ]
  },
  {
   "cell_type": "code",
   "execution_count": 5,
   "id": "efca1620",
   "metadata": {},
   "outputs": [],
   "source": [
    "age_avg=[]\n",
    "for i in range(len(age)-1):\n",
    "    age_avg.append((age[i]+age[i+1])/2)"
   ]
  },
  {
   "cell_type": "code",
   "execution_count": 6,
   "id": "32308202",
   "metadata": {},
   "outputs": [],
   "source": [
    "est_avg=[]\n",
    "for i in range(len(est)-1):\n",
    "    est_avg.append((est[i]+est[i+1])/2)"
   ]
  },
  {
   "cell_type": "code",
   "execution_count": 61,
   "id": "7a776ed9",
   "metadata": {},
   "outputs": [],
   "source": [
    "gini=[]\n",
    "def ginni(d0,d1):    \n",
    "    for j in age_avg:\n",
    "        n1,n2,n3,n4=0,0,0,0\n",
    "        for k in d0:\n",
    "            if k<j:\n",
    "                n1+=1  \n",
    "            if k>j:\n",
    "                n2+=1  \n",
    "        for k in d1:\n",
    "            if k<j:\n",
    "                n3+=1  \n",
    "            if k>j:\n",
    "                n4+=1  \n",
    "                \n",
    "        tot1=n1+n3  \n",
    "        tot2=n2+n4  \n",
    "        tot=tot1+tot2 \n",
    "        \n",
    "        left_gini=1-((n1/tot1)**2)-((n3/tot1)**2)\n",
    "        right_gini=1-((n2/tot2)**2)-((n4/tot2)**2)\n",
    "        weight=((tot1/tot)*left_gini)+((tot2/tot)*right_gini)\n",
    "        \n",
    "        gini.append(weight)\n",
    "        \n",
    "    min_gini=min(gini)\n",
    "    p=gini.index(min_gini)\n",
    "        \n",
    "    print(\"gini:\",min_gini,\"at average:\",age_avg[p])"
   ]
  },
  {
   "cell_type": "code",
   "execution_count": 62,
   "id": "1fe6e1b9",
   "metadata": {},
   "outputs": [],
   "source": [
    "d0=d[d[\"Purchased\"]==0]\n",
    "d1=d[d[\"Purchased\"]==1]"
   ]
  },
  {
   "cell_type": "code",
   "execution_count": 63,
   "id": "527c7ef7",
   "metadata": {},
   "outputs": [
    {
     "name": "stdout",
     "output_type": "stream",
     "text": [
      "gini: 0.2687902364607169 at average: 42.5\n"
     ]
    }
   ],
   "source": [
    "ginni(d0[\"Age\"],d1[\"Age\"])"
   ]
  },
  {
   "cell_type": "code",
   "execution_count": 64,
   "id": "7a6d35d8",
   "metadata": {},
   "outputs": [
    {
     "ename": "ZeroDivisionError",
     "evalue": "division by zero",
     "output_type": "error",
     "traceback": [
      "\u001b[1;31m---------------------------------------------------------------------------\u001b[0m",
      "\u001b[1;31mZeroDivisionError\u001b[0m                         Traceback (most recent call last)",
      "\u001b[1;32m~\\AppData\\Local\\Temp\\ipykernel_12332\\3139397265.py\u001b[0m in \u001b[0;36m<module>\u001b[1;34m\u001b[0m\n\u001b[1;32m----> 1\u001b[1;33m \u001b[0mginni\u001b[0m\u001b[1;33m(\u001b[0m\u001b[0md0\u001b[0m\u001b[1;33m[\u001b[0m\u001b[1;34m\"EstimatedSalary\"\u001b[0m\u001b[1;33m]\u001b[0m\u001b[1;33m,\u001b[0m\u001b[0md1\u001b[0m\u001b[1;33m[\u001b[0m\u001b[1;34m\"EstimatedSalary\"\u001b[0m\u001b[1;33m]\u001b[0m\u001b[1;33m)\u001b[0m\u001b[1;33m\u001b[0m\u001b[1;33m\u001b[0m\u001b[0m\n\u001b[0m",
      "\u001b[1;32m~\\AppData\\Local\\Temp\\ipykernel_12332\\1021400703.py\u001b[0m in \u001b[0;36mginni\u001b[1;34m(d0, d1)\u001b[0m\n\u001b[0;32m     18\u001b[0m         \u001b[0mtot\u001b[0m\u001b[1;33m=\u001b[0m\u001b[0mtot1\u001b[0m\u001b[1;33m+\u001b[0m\u001b[0mtot2\u001b[0m\u001b[1;33m\u001b[0m\u001b[1;33m\u001b[0m\u001b[0m\n\u001b[0;32m     19\u001b[0m \u001b[1;33m\u001b[0m\u001b[0m\n\u001b[1;32m---> 20\u001b[1;33m         \u001b[0mleft_gini\u001b[0m\u001b[1;33m=\u001b[0m\u001b[1;36m1\u001b[0m\u001b[1;33m-\u001b[0m\u001b[1;33m(\u001b[0m\u001b[1;33m(\u001b[0m\u001b[0mn1\u001b[0m\u001b[1;33m/\u001b[0m\u001b[0mtot1\u001b[0m\u001b[1;33m)\u001b[0m\u001b[1;33m**\u001b[0m\u001b[1;36m2\u001b[0m\u001b[1;33m)\u001b[0m\u001b[1;33m-\u001b[0m\u001b[1;33m(\u001b[0m\u001b[1;33m(\u001b[0m\u001b[0mn3\u001b[0m\u001b[1;33m/\u001b[0m\u001b[0mtot1\u001b[0m\u001b[1;33m)\u001b[0m\u001b[1;33m**\u001b[0m\u001b[1;36m2\u001b[0m\u001b[1;33m)\u001b[0m\u001b[1;33m\u001b[0m\u001b[1;33m\u001b[0m\u001b[0m\n\u001b[0m\u001b[0;32m     21\u001b[0m         \u001b[0mright_gini\u001b[0m\u001b[1;33m=\u001b[0m\u001b[1;36m1\u001b[0m\u001b[1;33m-\u001b[0m\u001b[1;33m(\u001b[0m\u001b[1;33m(\u001b[0m\u001b[0mn2\u001b[0m\u001b[1;33m/\u001b[0m\u001b[0mtot2\u001b[0m\u001b[1;33m)\u001b[0m\u001b[1;33m**\u001b[0m\u001b[1;36m2\u001b[0m\u001b[1;33m)\u001b[0m\u001b[1;33m-\u001b[0m\u001b[1;33m(\u001b[0m\u001b[1;33m(\u001b[0m\u001b[0mn4\u001b[0m\u001b[1;33m/\u001b[0m\u001b[0mtot2\u001b[0m\u001b[1;33m)\u001b[0m\u001b[1;33m**\u001b[0m\u001b[1;36m2\u001b[0m\u001b[1;33m)\u001b[0m\u001b[1;33m\u001b[0m\u001b[1;33m\u001b[0m\u001b[0m\n\u001b[0;32m     22\u001b[0m         \u001b[0mweight\u001b[0m\u001b[1;33m=\u001b[0m\u001b[1;33m(\u001b[0m\u001b[1;33m(\u001b[0m\u001b[0mtot1\u001b[0m\u001b[1;33m/\u001b[0m\u001b[0mtot\u001b[0m\u001b[1;33m)\u001b[0m\u001b[1;33m*\u001b[0m\u001b[0mleft_gini\u001b[0m\u001b[1;33m)\u001b[0m\u001b[1;33m+\u001b[0m\u001b[1;33m(\u001b[0m\u001b[1;33m(\u001b[0m\u001b[0mtot2\u001b[0m\u001b[1;33m/\u001b[0m\u001b[0mtot\u001b[0m\u001b[1;33m)\u001b[0m\u001b[1;33m*\u001b[0m\u001b[0mright_gini\u001b[0m\u001b[1;33m)\u001b[0m\u001b[1;33m\u001b[0m\u001b[1;33m\u001b[0m\u001b[0m\n",
      "\u001b[1;31mZeroDivisionError\u001b[0m: division by zero"
     ]
    }
   ],
   "source": [
    "ginni(d0[\"EstimatedSalary\"],d1[\"EstimatedSalary\"])"
   ]
  },
  {
   "cell_type": "code",
   "execution_count": null,
   "id": "527520e8",
   "metadata": {},
   "outputs": [],
   "source": []
  }
 ],
 "metadata": {
  "kernelspec": {
   "display_name": "Python 3 (ipykernel)",
   "language": "python",
   "name": "python3"
  },
  "language_info": {
   "codemirror_mode": {
    "name": "ipython",
    "version": 3
   },
   "file_extension": ".py",
   "mimetype": "text/x-python",
   "name": "python",
   "nbconvert_exporter": "python",
   "pygments_lexer": "ipython3",
   "version": "3.9.13"
  }
 },
 "nbformat": 4,
 "nbformat_minor": 5
}
