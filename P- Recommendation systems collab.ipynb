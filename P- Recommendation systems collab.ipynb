{
 "cells": [
  {
   "cell_type": "code",
   "execution_count": 1,
   "id": "b7a7f5a8",
   "metadata": {},
   "outputs": [],
   "source": [
    "#collaborative recommendation\n",
    "#user based (not item based)"
   ]
  },
  {
   "cell_type": "code",
   "execution_count": 2,
   "id": "2bb90170",
   "metadata": {},
   "outputs": [],
   "source": [
    "import pandas as pd\n",
    "import numpy as np\n",
    "users = ['User1', 'User2', 'User3', 'User4']\n",
    "items = ['Item1', 'Item2', 'Item3','Item4']\n",
    "ratings = np.array([[2, 3, 0, 5],\n",
    "                   [3, 0, 2, 6],\n",
    "                   [4, 5, 0, 7],\n",
    "                   [9, 4, 2, 8]])"
   ]
  },
  {
   "cell_type": "code",
   "execution_count": 3,
   "id": "0d366d70",
   "metadata": {},
   "outputs": [],
   "source": [
    "test_user=[2,3]\n",
    "#assuming test_user rates only item1 and item2"
   ]
  },
  {
   "cell_type": "code",
   "execution_count": 4,
   "id": "5a23d227",
   "metadata": {},
   "outputs": [
    {
     "data": {
      "text/plain": [
       "[2, 3]"
      ]
     },
     "execution_count": 4,
     "metadata": {},
     "output_type": "execute_result"
    }
   ],
   "source": [
    "test_user"
   ]
  },
  {
   "cell_type": "code",
   "execution_count": 5,
   "id": "c6b7f01c",
   "metadata": {},
   "outputs": [],
   "source": [
    "#find similarity using cosine\n",
    "def cosine(vector1,vector2):\n",
    "    #vector1 = vector1.reshape(-1)\n",
    "    #vector2 = vector2.reshape(1, -1)\n",
    "    dot_product = np.dot(vector1, vector2)\n",
    "    magnitude1 = np.linalg.norm(vector1)\n",
    "    magnitude2 = np.linalg.norm(vector2)\n",
    "    cosine_similarity = dot_product / (magnitude1 * magnitude2)\n",
    "    return cosine_similarity"
   ]
  },
  {
   "cell_type": "code",
   "execution_count": 6,
   "id": "2de91faa",
   "metadata": {},
   "outputs": [
    {
     "name": "stdout",
     "output_type": "stream",
     "text": [
      "[2 3]\n",
      "[3 0]\n",
      "[4 5]\n",
      "[9 4]\n"
     ]
    }
   ],
   "source": [
    "#sim_list contains the how other users have rated movies that test_user has rated\n",
    "sim_list=[]\n",
    "val=0\n",
    "#print(len(ratings)) -> no. of columns\n",
    "length=len(ratings)\n",
    "for i in range(length):\n",
    "    print(ratings[i][0:2])\n",
    "    sim_list.append(ratings[i][0:2])\n",
    "sim_list=np.array(sim_list)"
   ]
  },
  {
   "cell_type": "code",
   "execution_count": 7,
   "id": "80e1e8cf",
   "metadata": {},
   "outputs": [
    {
     "data": {
      "text/plain": [
       "array([[2, 3],\n",
       "       [3, 0],\n",
       "       [4, 5],\n",
       "       [9, 4]])"
      ]
     },
     "execution_count": 7,
     "metadata": {},
     "output_type": "execute_result"
    }
   ],
   "source": [
    "sim_list"
   ]
  },
  {
   "cell_type": "code",
   "execution_count": 8,
   "id": "e68a5d91",
   "metadata": {},
   "outputs": [
    {
     "name": "stdout",
     "output_type": "stream",
     "text": [
      "[2, 3]\n",
      "[2, 3]\n",
      "1.0000000000000002\n",
      "[3, 0]\n",
      "[2, 3]\n",
      "0.5547001962252291\n",
      "[4, 5]\n",
      "[2, 3]\n",
      "0.9962405881956831\n",
      "[9, 4]\n",
      "[2, 3]\n",
      "0.8448190755542286\n"
     ]
    }
   ],
   "source": [
    "#similarity for sim_list\n",
    "cosine_list=[]\n",
    "for i in sim_list:\n",
    "    i=list(i)\n",
    "    print(i)\n",
    "    print(test_user)\n",
    "    val=cosine(i,test_user)\n",
    "    print(val)\n",
    "    cosine_list.append(val)"
   ]
  },
  {
   "cell_type": "code",
   "execution_count": 9,
   "id": "e3059945",
   "metadata": {},
   "outputs": [
    {
     "data": {
      "text/plain": [
       "[1.0000000000000002,\n",
       " 0.5547001962252291,\n",
       " 0.9962405881956831,\n",
       " 0.8448190755542286]"
      ]
     },
     "execution_count": 9,
     "metadata": {},
     "output_type": "execute_result"
    }
   ],
   "source": [
    "cosine_list"
   ]
  },
  {
   "cell_type": "code",
   "execution_count": 10,
   "id": "f948e36f",
   "metadata": {},
   "outputs": [
    {
     "name": "stdout",
     "output_type": "stream",
     "text": [
      "other_list is [[0 5]\n",
      " [2 6]\n",
      " [0 7]\n",
      " [2 8]]\n",
      "[0 5]\n",
      "[2 6]\n",
      "[0 7]\n",
      "[2 8]\n",
      "1.0000000000000002\n",
      "0.5547001962252291\n",
      "0.9962405881956831\n",
      "0.8448190755542286\n"
     ]
    }
   ],
   "source": [
    "#weighted rating matrix= cosine_list * other_list\n",
    "other_list=[]\n",
    "for i in range(length):\n",
    "    other_list.append(ratings[i][2:4])\n",
    "other_list=np.array(other_list)\n",
    "print(\"other_list is\",other_list)\n",
    "weighted_list=[]\n",
    "for i in other_list:\n",
    "    print(i)\n",
    "for j in cosine_list:\n",
    "    print(j)"
   ]
  },
  {
   "cell_type": "code",
   "execution_count": 25,
   "id": "f2b63c41",
   "metadata": {},
   "outputs": [
    {
     "name": "stdout",
     "output_type": "stream",
     "text": [
      "0.0 5.000000000000001\n",
      "1.1094003924504583 3.328201177351375\n",
      "0.0 6.973684117369782\n",
      "1.6896381511084573 6.758552604433829\n"
     ]
    }
   ],
   "source": [
    "for i in range(len(sim_list)):\n",
    "    #print(\"i is\",i)\n",
    "    val1=other_list[i][0]*cosine_list[i]\n",
    "    val2=other_list[i][1]*cosine_list[i]\n",
    "    #print(\"other list\",other_list[i][0],other_list[i][1])\n",
    "    #print(\"cosine list\",cosine_list[i])\n",
    "    print(val1,val2)\n",
    "    weighted_list.append([val1,val2])"
   ]
  },
  {
   "cell_type": "code",
   "execution_count": 12,
   "id": "f2ab1ad6",
   "metadata": {},
   "outputs": [
    {
     "data": {
      "text/plain": [
       "[[array([0., 5.]), array([0., 5.])],\n",
       " [array([1.10940039, 3.32820118]), array([1.10940039, 3.32820118])],\n",
       " [array([0.        , 6.97368412]), array([0.        , 6.97368412])],\n",
       " [array([1.68963815, 6.7585526 ]), array([1.68963815, 6.7585526 ])]]"
      ]
     },
     "execution_count": 12,
     "metadata": {},
     "output_type": "execute_result"
    }
   ],
   "source": [
    "weighted_list"
   ]
  },
  {
   "cell_type": "code",
   "execution_count": 13,
   "id": "449a0ceb",
   "metadata": {},
   "outputs": [],
   "source": [
    "item_sum1=0\n",
    "item_sum2=0\n",
    "for i in weighted_list:\n",
    "    item_sum1+=i[0]\n",
    "    item_sum2+=i[1]"
   ]
  },
  {
   "cell_type": "code",
   "execution_count": 14,
   "id": "6a4e0652",
   "metadata": {},
   "outputs": [
    {
     "data": {
      "text/plain": [
       "(array([ 2.79903854, 22.0604379 ]), array([ 2.79903854, 22.0604379 ]))"
      ]
     },
     "execution_count": 14,
     "metadata": {},
     "output_type": "execute_result"
    }
   ],
   "source": [
    "item_sum1,item_sum2"
   ]
  },
  {
   "cell_type": "code",
   "execution_count": 15,
   "id": "6bd7e521",
   "metadata": {},
   "outputs": [
    {
     "name": "stdout",
     "output_type": "stream",
     "text": [
      "Recommend item4!\n"
     ]
    }
   ],
   "source": [
    "#as itemsum1<itemsum2\n",
    "#meaning recommend item 4 over item3\n",
    "print(\"Recommend item4!\")"
   ]
  },
  {
   "cell_type": "code",
   "execution_count": null,
   "id": "24233029",
   "metadata": {},
   "outputs": [],
   "source": []
  }
 ],
 "metadata": {
  "kernelspec": {
   "display_name": "Python 3 (ipykernel)",
   "language": "python",
   "name": "python3"
  },
  "language_info": {
   "codemirror_mode": {
    "name": "ipython",
    "version": 3
   },
   "file_extension": ".py",
   "mimetype": "text/x-python",
   "name": "python",
   "nbconvert_exporter": "python",
   "pygments_lexer": "ipython3",
   "version": "3.9.12"
  }
 },
 "nbformat": 4,
 "nbformat_minor": 5
}
