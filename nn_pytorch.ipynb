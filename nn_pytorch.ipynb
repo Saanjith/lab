{
  "nbformat": 4,
  "nbformat_minor": 0,
  "metadata": {
    "colab": {
      "provenance": []
    },
    "kernelspec": {
      "name": "python3",
      "display_name": "Python 3"
    },
    "language_info": {
      "name": "python"
    }
  },
  "cells": [
    {
      "cell_type": "markdown",
      "source": [
        "# Pytorch"
      ],
      "metadata": {
        "id": "QgGMvNZMTIed"
      }
    },
    {
      "cell_type": "code",
      "source": [
        "import torch\n",
        "torch.__version__"
      ],
      "metadata": {
        "id": "xMSvP1BY8E6t",
        "colab": {
          "base_uri": "https://localhost:8080/",
          "height": 36
        },
        "outputId": "0fcda531-0728-4441-ce7f-558fefd3a5eb"
      },
      "execution_count": 1,
      "outputs": [
        {
          "output_type": "execute_result",
          "data": {
            "text/plain": [
              "'1.13.1+cu116'"
            ],
            "application/vnd.google.colaboratory.intrinsic+json": {
              "type": "string"
            }
          },
          "metadata": {},
          "execution_count": 1
        }
      ]
    },
    {
      "cell_type": "code",
      "source": [
        "import numpy as np\n",
        "import pandas as pd"
      ],
      "metadata": {
        "id": "bIbBS7nMzuD0"
      },
      "execution_count": 2,
      "outputs": []
    },
    {
      "cell_type": "code",
      "source": [
        "data = pd.read_csv(r\"/content/Bank_Personal_Loan_Modelling.csv\")"
      ],
      "metadata": {
        "id": "ZAMI_l5C2iH8"
      },
      "execution_count": 3,
      "outputs": []
    },
    {
      "cell_type": "code",
      "source": [
        "data.head()"
      ],
      "metadata": {
        "colab": {
          "base_uri": "https://localhost:8080/",
          "height": 287
        },
        "id": "bF_HPBv42saX",
        "outputId": "bcdff408-f16d-4a64-e853-0f61079a4509"
      },
      "execution_count": 4,
      "outputs": [
        {
          "output_type": "execute_result",
          "data": {
            "text/plain": [
              "   ID  Age  Experience  Income  ZIP Code  Family  CCAvg  Education  Mortgage  \\\n",
              "0   1   25           1      49     91107       4    1.6          1         0   \n",
              "1   2   45          19      34     90089       3    1.5          1         0   \n",
              "2   3   39          15      11     94720       1    1.0          1         0   \n",
              "3   4   35           9     100     94112       1    2.7          2         0   \n",
              "4   5   35           8      45     91330       4    1.0          2         0   \n",
              "\n",
              "   Personal Loan  Securities Account  CD Account  Online  CreditCard  \n",
              "0              0                   1           0       0           0  \n",
              "1              0                   1           0       0           0  \n",
              "2              0                   0           0       0           0  \n",
              "3              0                   0           0       0           0  \n",
              "4              0                   0           0       0           1  "
            ],
            "text/html": [
              "\n",
              "  <div id=\"df-2a3910c3-425c-4fa0-9740-c30ee512facb\">\n",
              "    <div class=\"colab-df-container\">\n",
              "      <div>\n",
              "<style scoped>\n",
              "    .dataframe tbody tr th:only-of-type {\n",
              "        vertical-align: middle;\n",
              "    }\n",
              "\n",
              "    .dataframe tbody tr th {\n",
              "        vertical-align: top;\n",
              "    }\n",
              "\n",
              "    .dataframe thead th {\n",
              "        text-align: right;\n",
              "    }\n",
              "</style>\n",
              "<table border=\"1\" class=\"dataframe\">\n",
              "  <thead>\n",
              "    <tr style=\"text-align: right;\">\n",
              "      <th></th>\n",
              "      <th>ID</th>\n",
              "      <th>Age</th>\n",
              "      <th>Experience</th>\n",
              "      <th>Income</th>\n",
              "      <th>ZIP Code</th>\n",
              "      <th>Family</th>\n",
              "      <th>CCAvg</th>\n",
              "      <th>Education</th>\n",
              "      <th>Mortgage</th>\n",
              "      <th>Personal Loan</th>\n",
              "      <th>Securities Account</th>\n",
              "      <th>CD Account</th>\n",
              "      <th>Online</th>\n",
              "      <th>CreditCard</th>\n",
              "    </tr>\n",
              "  </thead>\n",
              "  <tbody>\n",
              "    <tr>\n",
              "      <th>0</th>\n",
              "      <td>1</td>\n",
              "      <td>25</td>\n",
              "      <td>1</td>\n",
              "      <td>49</td>\n",
              "      <td>91107</td>\n",
              "      <td>4</td>\n",
              "      <td>1.6</td>\n",
              "      <td>1</td>\n",
              "      <td>0</td>\n",
              "      <td>0</td>\n",
              "      <td>1</td>\n",
              "      <td>0</td>\n",
              "      <td>0</td>\n",
              "      <td>0</td>\n",
              "    </tr>\n",
              "    <tr>\n",
              "      <th>1</th>\n",
              "      <td>2</td>\n",
              "      <td>45</td>\n",
              "      <td>19</td>\n",
              "      <td>34</td>\n",
              "      <td>90089</td>\n",
              "      <td>3</td>\n",
              "      <td>1.5</td>\n",
              "      <td>1</td>\n",
              "      <td>0</td>\n",
              "      <td>0</td>\n",
              "      <td>1</td>\n",
              "      <td>0</td>\n",
              "      <td>0</td>\n",
              "      <td>0</td>\n",
              "    </tr>\n",
              "    <tr>\n",
              "      <th>2</th>\n",
              "      <td>3</td>\n",
              "      <td>39</td>\n",
              "      <td>15</td>\n",
              "      <td>11</td>\n",
              "      <td>94720</td>\n",
              "      <td>1</td>\n",
              "      <td>1.0</td>\n",
              "      <td>1</td>\n",
              "      <td>0</td>\n",
              "      <td>0</td>\n",
              "      <td>0</td>\n",
              "      <td>0</td>\n",
              "      <td>0</td>\n",
              "      <td>0</td>\n",
              "    </tr>\n",
              "    <tr>\n",
              "      <th>3</th>\n",
              "      <td>4</td>\n",
              "      <td>35</td>\n",
              "      <td>9</td>\n",
              "      <td>100</td>\n",
              "      <td>94112</td>\n",
              "      <td>1</td>\n",
              "      <td>2.7</td>\n",
              "      <td>2</td>\n",
              "      <td>0</td>\n",
              "      <td>0</td>\n",
              "      <td>0</td>\n",
              "      <td>0</td>\n",
              "      <td>0</td>\n",
              "      <td>0</td>\n",
              "    </tr>\n",
              "    <tr>\n",
              "      <th>4</th>\n",
              "      <td>5</td>\n",
              "      <td>35</td>\n",
              "      <td>8</td>\n",
              "      <td>45</td>\n",
              "      <td>91330</td>\n",
              "      <td>4</td>\n",
              "      <td>1.0</td>\n",
              "      <td>2</td>\n",
              "      <td>0</td>\n",
              "      <td>0</td>\n",
              "      <td>0</td>\n",
              "      <td>0</td>\n",
              "      <td>0</td>\n",
              "      <td>1</td>\n",
              "    </tr>\n",
              "  </tbody>\n",
              "</table>\n",
              "</div>\n",
              "      <button class=\"colab-df-convert\" onclick=\"convertToInteractive('df-2a3910c3-425c-4fa0-9740-c30ee512facb')\"\n",
              "              title=\"Convert this dataframe to an interactive table.\"\n",
              "              style=\"display:none;\">\n",
              "        \n",
              "  <svg xmlns=\"http://www.w3.org/2000/svg\" height=\"24px\"viewBox=\"0 0 24 24\"\n",
              "       width=\"24px\">\n",
              "    <path d=\"M0 0h24v24H0V0z\" fill=\"none\"/>\n",
              "    <path d=\"M18.56 5.44l.94 2.06.94-2.06 2.06-.94-2.06-.94-.94-2.06-.94 2.06-2.06.94zm-11 1L8.5 8.5l.94-2.06 2.06-.94-2.06-.94L8.5 2.5l-.94 2.06-2.06.94zm10 10l.94 2.06.94-2.06 2.06-.94-2.06-.94-.94-2.06-.94 2.06-2.06.94z\"/><path d=\"M17.41 7.96l-1.37-1.37c-.4-.4-.92-.59-1.43-.59-.52 0-1.04.2-1.43.59L10.3 9.45l-7.72 7.72c-.78.78-.78 2.05 0 2.83L4 21.41c.39.39.9.59 1.41.59.51 0 1.02-.2 1.41-.59l7.78-7.78 2.81-2.81c.8-.78.8-2.07 0-2.86zM5.41 20L4 18.59l7.72-7.72 1.47 1.35L5.41 20z\"/>\n",
              "  </svg>\n",
              "      </button>\n",
              "      \n",
              "  <style>\n",
              "    .colab-df-container {\n",
              "      display:flex;\n",
              "      flex-wrap:wrap;\n",
              "      gap: 12px;\n",
              "    }\n",
              "\n",
              "    .colab-df-convert {\n",
              "      background-color: #E8F0FE;\n",
              "      border: none;\n",
              "      border-radius: 50%;\n",
              "      cursor: pointer;\n",
              "      display: none;\n",
              "      fill: #1967D2;\n",
              "      height: 32px;\n",
              "      padding: 0 0 0 0;\n",
              "      width: 32px;\n",
              "    }\n",
              "\n",
              "    .colab-df-convert:hover {\n",
              "      background-color: #E2EBFA;\n",
              "      box-shadow: 0px 1px 2px rgba(60, 64, 67, 0.3), 0px 1px 3px 1px rgba(60, 64, 67, 0.15);\n",
              "      fill: #174EA6;\n",
              "    }\n",
              "\n",
              "    [theme=dark] .colab-df-convert {\n",
              "      background-color: #3B4455;\n",
              "      fill: #D2E3FC;\n",
              "    }\n",
              "\n",
              "    [theme=dark] .colab-df-convert:hover {\n",
              "      background-color: #434B5C;\n",
              "      box-shadow: 0px 1px 3px 1px rgba(0, 0, 0, 0.15);\n",
              "      filter: drop-shadow(0px 1px 2px rgba(0, 0, 0, 0.3));\n",
              "      fill: #FFFFFF;\n",
              "    }\n",
              "  </style>\n",
              "\n",
              "      <script>\n",
              "        const buttonEl =\n",
              "          document.querySelector('#df-2a3910c3-425c-4fa0-9740-c30ee512facb button.colab-df-convert');\n",
              "        buttonEl.style.display =\n",
              "          google.colab.kernel.accessAllowed ? 'block' : 'none';\n",
              "\n",
              "        async function convertToInteractive(key) {\n",
              "          const element = document.querySelector('#df-2a3910c3-425c-4fa0-9740-c30ee512facb');\n",
              "          const dataTable =\n",
              "            await google.colab.kernel.invokeFunction('convertToInteractive',\n",
              "                                                     [key], {});\n",
              "          if (!dataTable) return;\n",
              "\n",
              "          const docLinkHtml = 'Like what you see? Visit the ' +\n",
              "            '<a target=\"_blank\" href=https://colab.research.google.com/notebooks/data_table.ipynb>data table notebook</a>'\n",
              "            + ' to learn more about interactive tables.';\n",
              "          element.innerHTML = '';\n",
              "          dataTable['output_type'] = 'display_data';\n",
              "          await google.colab.output.renderOutput(dataTable, element);\n",
              "          const docLink = document.createElement('div');\n",
              "          docLink.innerHTML = docLinkHtml;\n",
              "          element.appendChild(docLink);\n",
              "        }\n",
              "      </script>\n",
              "    </div>\n",
              "  </div>\n",
              "  "
            ]
          },
          "metadata": {},
          "execution_count": 4
        }
      ]
    },
    {
      "cell_type": "code",
      "source": [
        "data.info()\n",
        "data.drop(['Age','ID','ZIP Code'],axis=1,inplace=True)"
      ],
      "metadata": {
        "colab": {
          "base_uri": "https://localhost:8080/"
        },
        "id": "LxiWLfPA3dwT",
        "outputId": "6a3432c8-4ef9-46c6-ad68-c8fcf959d84b"
      },
      "execution_count": 5,
      "outputs": [
        {
          "output_type": "stream",
          "name": "stdout",
          "text": [
            "<class 'pandas.core.frame.DataFrame'>\n",
            "RangeIndex: 5000 entries, 0 to 4999\n",
            "Data columns (total 14 columns):\n",
            " #   Column              Non-Null Count  Dtype  \n",
            "---  ------              --------------  -----  \n",
            " 0   ID                  5000 non-null   int64  \n",
            " 1   Age                 5000 non-null   int64  \n",
            " 2   Experience          5000 non-null   int64  \n",
            " 3   Income              5000 non-null   int64  \n",
            " 4   ZIP Code            5000 non-null   int64  \n",
            " 5   Family              5000 non-null   int64  \n",
            " 6   CCAvg               5000 non-null   float64\n",
            " 7   Education           5000 non-null   int64  \n",
            " 8   Mortgage            5000 non-null   int64  \n",
            " 9   Personal Loan       5000 non-null   int64  \n",
            " 10  Securities Account  5000 non-null   int64  \n",
            " 11  CD Account          5000 non-null   int64  \n",
            " 12  Online              5000 non-null   int64  \n",
            " 13  CreditCard          5000 non-null   int64  \n",
            "dtypes: float64(1), int64(13)\n",
            "memory usage: 547.0 KB\n"
          ]
        }
      ]
    },
    {
      "cell_type": "code",
      "source": [
        "import matplotlib.pyplot as plt\n",
        "import seaborn as sns\n",
        "sns.countplot(x = 'CreditCard',data = data)\n",
        "print(\"class0: \",sum(data['CreditCard']==0)/len(data)*100,\"%\")"
      ],
      "metadata": {
        "colab": {
          "base_uri": "https://localhost:8080/",
          "height": 297
        },
        "id": "hp-YP4g3JFPQ",
        "outputId": "31ad28c5-afa8-473f-ae0d-cbef342f9a7c"
      },
      "execution_count": 6,
      "outputs": [
        {
          "output_type": "stream",
          "name": "stdout",
          "text": [
            "class0:  70.6 %\n"
          ]
        },
        {
          "output_type": "display_data",
          "data": {
            "text/plain": [
              "<Figure size 432x288 with 1 Axes>"
            ],
            "image/png": "[encoded data removed]"
          },
          "metadata": {
            "needs_background": "light"
          }
        }
      ]
    },
    {
      "cell_type": "code",
      "source": [
        "from sklearn.model_selection import train_test_split as tts\n",
        "xtr,xtst,ytr,ytst = tts(data.drop(['CreditCard'],axis=1),data['CreditCard'],test_size=0.25)\n",
        "xtr.shape,xtst.shape,ytr.shape,ytst.shape"
      ],
      "metadata": {
        "colab": {
          "base_uri": "https://localhost:8080/"
        },
        "id": "MSdljWla2_I-",
        "outputId": "865044dd-1b11-46d1-e23b-67cfb1d6dc46"
      },
      "execution_count": 7,
      "outputs": [
        {
          "output_type": "execute_result",
          "data": {
            "text/plain": [
              "((3750, 10), (1250, 10), (3750,), (1250,))"
            ]
          },
          "metadata": {},
          "execution_count": 7
        }
      ]
    },
    {
      "cell_type": "code",
      "source": [
        "xtr = torch.tensor(xtr.values, dtype=torch.float32)\n",
        "xtst = torch.tensor(xtst.values, dtype=torch.float32)\n",
        "ytr = torch.tensor(ytr.values, dtype=torch.float32).reshape(-1,1)\n",
        "ytst = torch.tensor(ytst.values, dtype=torch.float32).reshape(-1,1)"
      ],
      "metadata": {
        "id": "A8bZ5H3wtlwz"
      },
      "execution_count": 8,
      "outputs": []
    },
    {
      "cell_type": "code",
      "source": [
        "class Model(torch.nn.Module):\n",
        "    def __init__(self):\n",
        "        super().__init__()\n",
        "        self.linear1 = torch.nn.Linear(10, 16)\n",
        "        self.act1 = torch.nn.ReLU()\n",
        "        self.linear2 = torch.nn.Linear(16, 8)\n",
        "        self.act2 = torch.nn.ReLU()\n",
        "        self.linear3 = torch.nn.Linear(8,1)\n",
        "        self.sigmoid = torch.nn.Sigmoid()\n",
        "\n",
        "    def forward(self, x):\n",
        "        x = self.linear1(x)\n",
        "        x = self.act1(x)\n",
        "        x = self.linear2(x)\n",
        "        x = self.act2(x)\n",
        "        x = self.linear3(x)\n",
        "        x = self.sigmoid(x)\n",
        "        return x"
      ],
      "metadata": {
        "id": "OVA9HwPr4KQq"
      },
      "execution_count": 9,
      "outputs": []
    },
    {
      "cell_type": "code",
      "source": [
        "epochs = 1000\n",
        "model = Model()\n",
        "\n",
        "train_loss_values = []\n",
        "test_loss_values = []\n",
        "epoch_count = []\n",
        "\n",
        "loss_fn = torch.nn.BCELoss(weight = torch.tensor([0.8]))\n",
        "optimizer = torch.optim.Adam(model.parameters(), lr=0.001)"
      ],
      "metadata": {
        "id": "VG08OJSq4z-K"
      },
      "execution_count": 10,
      "outputs": []
    },
    {
      "cell_type": "code",
      "source": [
        "for epoch in range(epochs):\n",
        "    model.train()\n",
        "    ypr = model(xtr)\n",
        "\n",
        "    loss = loss_fn(ypr, ytr)\n",
        "    optimizer.zero_grad()\n",
        "    loss.backward()\n",
        "    optimizer.step()\n",
        "    \n",
        "    model.eval()\n",
        "    with torch.inference_mode():\n",
        "      test_pred = model(xtst)\n",
        "      test_loss = loss_fn(test_pred, ytst.type(torch.float))\n",
        "\n",
        "      if epoch % 100 == 0:\n",
        "            epoch_count.append(epoch)\n",
        "            train_loss_values.append(loss.detach().numpy())\n",
        "            test_loss_values.append(test_loss.detach().numpy())\n",
        "            print(f\"Epoch: {epoch} | MAE Train Loss: {loss} | MAE Test Loss: {test_loss} \")"
      ],
      "metadata": {
        "colab": {
          "base_uri": "https://localhost:8080/"
        },
        "id": "sjFQ0IYGIEj0",
        "outputId": "ab1d7aeb-d17e-4eac-cecc-91fac9af7f69"
      },
      "execution_count": 11,
      "outputs": [
        {
          "output_type": "stream",
          "name": "stdout",
          "text": [
            "Epoch: 0 | MAE Train Loss: 1.3044112920761108 | MAE Test Loss: 1.1261165142059326 \n",
            "Epoch: 100 | MAE Train Loss: 0.5198016166687012 | MAE Test Loss: 0.503182053565979 \n",
            "Epoch: 200 | MAE Train Loss: 0.49748140573501587 | MAE Test Loss: 0.490695595741272 \n",
            "Epoch: 300 | MAE Train Loss: 0.49052655696868896 | MAE Test Loss: 0.48718997836112976 \n",
            "Epoch: 400 | MAE Train Loss: 0.4874402582645416 | MAE Test Loss: 0.4847366213798523 \n",
            "Epoch: 500 | MAE Train Loss: 0.4850229024887085 | MAE Test Loss: 0.4824276864528656 \n",
            "Epoch: 600 | MAE Train Loss: 0.48058024048805237 | MAE Test Loss: 0.4773431122303009 \n",
            "Epoch: 700 | MAE Train Loss: 0.47286170721054077 | MAE Test Loss: 0.47172290086746216 \n",
            "Epoch: 800 | MAE Train Loss: 0.46526840329170227 | MAE Test Loss: 0.46427202224731445 \n",
            "Epoch: 900 | MAE Train Loss: 0.45820727944374084 | MAE Test Loss: 0.4572843313217163 \n"
          ]
        }
      ]
    },
    {
      "cell_type": "code",
      "source": [
        "plt.plot(epoch_count, train_loss_values, label=\"Train loss\")\n",
        "plt.plot(epoch_count, test_loss_values, label=\"Test loss\")\n",
        "plt.title(\"Training and test loss curves\")\n",
        "plt.ylabel(\"Loss\")\n",
        "plt.xlabel(\"Epochs\")\n",
        "plt.legend();"
      ],
      "metadata": {
        "colab": {
          "base_uri": "https://localhost:8080/",
          "height": 295
        },
        "id": "LeUf5DrkTFaO",
        "outputId": "24c0e1c0-94bb-4acf-907f-37ee2beb191a"
      },
      "execution_count": 12,
      "outputs": [
        {
          "output_type": "display_data",
          "data": {
            "text/plain": [
              "<Figure size 432x288 with 1 Axes>"
            ],
            "image/png": "[encoded data removed]"
          },
          "metadata": {
            "needs_background": "light"
          }
        }
      ]
    },
    {
      "cell_type": "code",
      "source": [
        "with torch.inference_mode():\n",
        "      test_pred = model(xtst)\n",
        "ans1 = (test_pred>0.5).float()\n",
        "loss_fn(ytst,test_pred)"
      ],
      "metadata": {
        "colab": {
          "base_uri": "https://localhost:8080/"
        },
        "id": "bDo4huXcTodz",
        "outputId": "60a7c580-c94b-4062-9e50-b231aaeb1ac4"
      },
      "execution_count": 13,
      "outputs": [
        {
          "output_type": "execute_result",
          "data": {
            "text/plain": [
              "tensor(31.1940)"
            ]
          },
          "metadata": {},
          "execution_count": 13
        }
      ]
    },
    {
      "cell_type": "code",
      "source": [
        "from sklearn.metrics import confusion_matrix,classification_report\n",
        "confusion_matrix(ans1,ytst)"
      ],
      "metadata": {
        "colab": {
          "base_uri": "https://localhost:8080/"
        },
        "id": "5RHV-Yik1UVj",
        "outputId": "6501d19c-95b3-49c1-fb55-db1be9004bf9"
      },
      "execution_count": 15,
      "outputs": [
        {
          "output_type": "execute_result",
          "data": {
            "text/plain": [
              "array([[887, 305],\n",
              "       [  8,  50]])"
            ]
          },
          "metadata": {},
          "execution_count": 15
        }
      ]
    },
    {
      "cell_type": "code",
      "source": [
        "print(classification_report(ans1,ytst))"
      ],
      "metadata": {
        "colab": {
          "base_uri": "https://localhost:8080/"
        },
        "id": "k0ANTx4fSQfo",
        "outputId": "83fb9ac1-2e95-4113-ffe0-b393f7794223"
      },
      "execution_count": 18,
      "outputs": [
        {
          "output_type": "stream",
          "name": "stdout",
          "text": [
            "              precision    recall  f1-score   support\n",
            "\n",
            "         0.0       0.99      0.74      0.85      1192\n",
            "         1.0       0.14      0.86      0.24        58\n",
            "\n",
            "    accuracy                           0.75      1250\n",
            "   macro avg       0.57      0.80      0.55      1250\n",
            "weighted avg       0.95      0.75      0.82      1250\n",
            "\n"
          ]
        }
      ]
    },
    {
      "cell_type": "markdown",
      "source": [
        "# Keras"
      ],
      "metadata": {
        "id": "b0aBWBo8TOHF"
      }
    },
    {
      "cell_type": "code",
      "source": [
        "from tensorflow.keras.models import Sequential\n",
        "from tensorflow.keras.layers import Dense\n",
        "from sklearn.model_selection import StratifiedKFold\n",
        "from scikeras.wrappers import KerasClassifier\n",
        "from sklearn.model_selection import cross_val_score\n",
        "from sklearn.preprocessing import StandardScaler\n",
        "from sklearn.pipeline import Pipeline"
      ],
      "metadata": {
        "id": "8eAgzSfs_ki9"
      },
      "execution_count": 27,
      "outputs": []
    },
    {
      "cell_type": "code",
      "source": [
        "model = Sequential()\n",
        "model.add(Dense(16, input_shape=(10,), activation='relu'))\n",
        "model.add(Dense(8, activation='relu'))\n",
        "model.add(Dense(1, activation='sigmoid'))\n",
        "model.compile(loss='binary_crossentropy',optimizer='adam',metrics=['accuracy'])\n",
        "model.summary()"
      ],
      "metadata": {
        "colab": {
          "base_uri": "https://localhost:8080/"
        },
        "id": "bsBQ8U8RTQz3",
        "outputId": "da6384e1-bfe2-438c-f72d-219f01fb12b9"
      },
      "execution_count": 46,
      "outputs": [
        {
          "output_type": "stream",
          "name": "stdout",
          "text": [
            "Model: \"sequential_21\"\n",
            "_________________________________________________________________\n",
            " Layer (type)                Output Shape              Param #   \n",
            "=================================================================\n",
            " dense_63 (Dense)            (None, 16)                176       \n",
            "                                                                 \n",
            " dense_64 (Dense)            (None, 8)                 136       \n",
            "                                                                 \n",
            " dense_65 (Dense)            (None, 1)                 9         \n",
            "                                                                 \n",
            "=================================================================\n",
            "Total params: 321\n",
            "Trainable params: 321\n",
            "Non-trainable params: 0\n",
            "_________________________________________________________________\n"
          ]
        }
      ]
    },
    {
      "cell_type": "code",
      "source": [
        "from sklearn.model_selection import train_test_split as tts\n",
        "xtr,xtst,ytr,ytst = tts(data.drop(['CreditCard'],axis=1),data['CreditCard'],test_size=0.25)"
      ],
      "metadata": {
        "id": "GQKkx4v3o6CM"
      },
      "execution_count": 47,
      "outputs": []
    },
    {
      "cell_type": "code",
      "source": [
        "model.fit(xtr,ytr,epochs=100)"
      ],
      "metadata": {
        "colab": {
          "base_uri": "https://localhost:8080/"
        },
        "id": "v8WM_t39pmAW",
        "outputId": "cbea5050-dec2-4723-e765-665a8ec46fd3"
      },
      "execution_count": 48,
      "outputs": [
        {
          "output_type": "stream",
          "name": "stdout",
          "text": [
            "Epoch 1/100\n",
            "118/118 [==============================] - 1s 2ms/step - loss: 2.6110 - accuracy: 0.6416\n",
            "Epoch 2/100\n",
            "118/118 [==============================] - 0s 2ms/step - loss: 0.6661 - accuracy: 0.6683\n",
            "Epoch 3/100\n",
            "118/118 [==============================] - 0s 2ms/step - loss: 0.6410 - accuracy: 0.6813\n",
            "Epoch 4/100\n",
            "118/118 [==============================] - 0s 2ms/step - loss: 0.6432 - accuracy: 0.6877\n",
            "Epoch 5/100\n",
            "118/118 [==============================] - 0s 2ms/step - loss: 0.6257 - accuracy: 0.7021\n",
            "Epoch 6/100\n",
            "118/118 [==============================] - 0s 2ms/step - loss: 0.6201 - accuracy: 0.7024\n",
            "Epoch 7/100\n",
            "118/118 [==============================] - 0s 2ms/step - loss: 0.6175 - accuracy: 0.7008\n",
            "Epoch 8/100\n",
            "118/118 [==============================] - 0s 2ms/step - loss: 0.6183 - accuracy: 0.7035\n",
            "Epoch 9/100\n",
            "118/118 [==============================] - 0s 2ms/step - loss: 0.6047 - accuracy: 0.7139\n",
            "Epoch 10/100\n",
            "118/118 [==============================] - 0s 2ms/step - loss: 0.6019 - accuracy: 0.7152\n",
            "Epoch 11/100\n",
            "118/118 [==============================] - 0s 2ms/step - loss: 0.6003 - accuracy: 0.7112\n",
            "Epoch 12/100\n",
            "118/118 [==============================] - 0s 2ms/step - loss: 0.6045 - accuracy: 0.7101\n",
            "Epoch 13/100\n",
            "118/118 [==============================] - 0s 2ms/step - loss: 0.6043 - accuracy: 0.7096\n",
            "Epoch 14/100\n",
            "118/118 [==============================] - 0s 2ms/step - loss: 0.5960 - accuracy: 0.7179\n",
            "Epoch 15/100\n",
            "118/118 [==============================] - 0s 2ms/step - loss: 0.6045 - accuracy: 0.7131\n",
            "Epoch 16/100\n",
            "118/118 [==============================] - 0s 2ms/step - loss: 0.5943 - accuracy: 0.7189\n",
            "Epoch 17/100\n",
            "118/118 [==============================] - 0s 2ms/step - loss: 0.5902 - accuracy: 0.7179\n",
            "Epoch 18/100\n",
            "118/118 [==============================] - 0s 2ms/step - loss: 0.5896 - accuracy: 0.7245\n",
            "Epoch 19/100\n",
            "118/118 [==============================] - 0s 2ms/step - loss: 0.5919 - accuracy: 0.7219\n",
            "Epoch 20/100\n",
            "118/118 [==============================] - 0s 2ms/step - loss: 0.5844 - accuracy: 0.7256\n",
            "Epoch 21/100\n",
            "118/118 [==============================] - 0s 2ms/step - loss: 0.5895 - accuracy: 0.7208\n",
            "Epoch 22/100\n",
            "118/118 [==============================] - 0s 2ms/step - loss: 0.5769 - accuracy: 0.7285\n",
            "Epoch 23/100\n",
            "118/118 [==============================] - 0s 2ms/step - loss: 0.5785 - accuracy: 0.7307\n",
            "Epoch 24/100\n",
            "118/118 [==============================] - 0s 2ms/step - loss: 0.5782 - accuracy: 0.7299\n",
            "Epoch 25/100\n",
            "118/118 [==============================] - 0s 2ms/step - loss: 0.5814 - accuracy: 0.7256\n",
            "Epoch 26/100\n",
            "118/118 [==============================] - 0s 2ms/step - loss: 0.5761 - accuracy: 0.7325\n",
            "Epoch 27/100\n",
            "118/118 [==============================] - 0s 2ms/step - loss: 0.5726 - accuracy: 0.7339\n",
            "Epoch 28/100\n",
            "118/118 [==============================] - 0s 2ms/step - loss: 0.5794 - accuracy: 0.7288\n",
            "Epoch 29/100\n",
            "118/118 [==============================] - 0s 2ms/step - loss: 0.5946 - accuracy: 0.7229\n",
            "Epoch 30/100\n",
            "118/118 [==============================] - 0s 2ms/step - loss: 0.5786 - accuracy: 0.7285\n",
            "Epoch 31/100\n",
            "118/118 [==============================] - 0s 2ms/step - loss: 0.5693 - accuracy: 0.7331\n",
            "Epoch 32/100\n",
            "118/118 [==============================] - 0s 2ms/step - loss: 0.5787 - accuracy: 0.7331\n",
            "Epoch 33/100\n",
            "118/118 [==============================] - 0s 2ms/step - loss: 0.5712 - accuracy: 0.7365\n",
            "Epoch 34/100\n",
            "118/118 [==============================] - 0s 2ms/step - loss: 0.5826 - accuracy: 0.7309\n",
            "Epoch 35/100\n",
            "118/118 [==============================] - 0s 3ms/step - loss: 0.5696 - accuracy: 0.7405\n",
            "Epoch 36/100\n",
            "118/118 [==============================] - 0s 3ms/step - loss: 0.5742 - accuracy: 0.7352\n",
            "Epoch 37/100\n",
            "118/118 [==============================] - 0s 3ms/step - loss: 0.5720 - accuracy: 0.7344\n",
            "Epoch 38/100\n",
            "118/118 [==============================] - 0s 4ms/step - loss: 0.5698 - accuracy: 0.7371\n",
            "Epoch 39/100\n",
            "118/118 [==============================] - 0s 3ms/step - loss: 0.5700 - accuracy: 0.7427\n",
            "Epoch 40/100\n",
            "118/118 [==============================] - 0s 4ms/step - loss: 0.5685 - accuracy: 0.7419\n",
            "Epoch 41/100\n",
            "118/118 [==============================] - 0s 3ms/step - loss: 0.5753 - accuracy: 0.7376\n",
            "Epoch 42/100\n",
            "118/118 [==============================] - 0s 3ms/step - loss: 0.5647 - accuracy: 0.7421\n",
            "Epoch 43/100\n",
            "118/118 [==============================] - 0s 2ms/step - loss: 0.5620 - accuracy: 0.7435\n",
            "Epoch 44/100\n",
            "118/118 [==============================] - 0s 2ms/step - loss: 0.5669 - accuracy: 0.7424\n",
            "Epoch 45/100\n",
            "118/118 [==============================] - 0s 2ms/step - loss: 0.5676 - accuracy: 0.7443\n",
            "Epoch 46/100\n",
            "118/118 [==============================] - 0s 2ms/step - loss: 0.5665 - accuracy: 0.7427\n",
            "Epoch 47/100\n",
            "118/118 [==============================] - 0s 2ms/step - loss: 0.5648 - accuracy: 0.7424\n",
            "Epoch 48/100\n",
            "118/118 [==============================] - 0s 2ms/step - loss: 0.5714 - accuracy: 0.7381\n",
            "Epoch 49/100\n",
            "118/118 [==============================] - 0s 2ms/step - loss: 0.5662 - accuracy: 0.7443\n",
            "Epoch 50/100\n",
            "118/118 [==============================] - 0s 2ms/step - loss: 0.5676 - accuracy: 0.7408\n",
            "Epoch 51/100\n",
            "118/118 [==============================] - 0s 2ms/step - loss: 0.5617 - accuracy: 0.7437\n",
            "Epoch 52/100\n",
            "118/118 [==============================] - 0s 2ms/step - loss: 0.5660 - accuracy: 0.7429\n",
            "Epoch 53/100\n",
            "118/118 [==============================] - 0s 2ms/step - loss: 0.5593 - accuracy: 0.7475\n",
            "Epoch 54/100\n",
            "118/118 [==============================] - 0s 2ms/step - loss: 0.5687 - accuracy: 0.7427\n",
            "Epoch 55/100\n",
            "118/118 [==============================] - 0s 2ms/step - loss: 0.5591 - accuracy: 0.7437\n",
            "Epoch 56/100\n",
            "118/118 [==============================] - 0s 2ms/step - loss: 0.5581 - accuracy: 0.7483\n",
            "Epoch 57/100\n",
            "118/118 [==============================] - 0s 2ms/step - loss: 0.5599 - accuracy: 0.7456\n",
            "Epoch 58/100\n",
            "118/118 [==============================] - 0s 2ms/step - loss: 0.5573 - accuracy: 0.7472\n",
            "Epoch 59/100\n",
            "118/118 [==============================] - 0s 2ms/step - loss: 0.5659 - accuracy: 0.7416\n",
            "Epoch 60/100\n",
            "118/118 [==============================] - 0s 2ms/step - loss: 0.5694 - accuracy: 0.7440\n",
            "Epoch 61/100\n",
            "118/118 [==============================] - 0s 2ms/step - loss: 0.5632 - accuracy: 0.7453\n",
            "Epoch 62/100\n",
            "118/118 [==============================] - 0s 2ms/step - loss: 0.5592 - accuracy: 0.7429\n",
            "Epoch 63/100\n",
            "118/118 [==============================] - 0s 2ms/step - loss: 0.5570 - accuracy: 0.7448\n",
            "Epoch 64/100\n",
            "118/118 [==============================] - 0s 2ms/step - loss: 0.5576 - accuracy: 0.7475\n",
            "Epoch 65/100\n",
            "118/118 [==============================] - 0s 2ms/step - loss: 0.5666 - accuracy: 0.7373\n",
            "Epoch 66/100\n",
            "118/118 [==============================] - 0s 2ms/step - loss: 0.5592 - accuracy: 0.7477\n",
            "Epoch 67/100\n",
            "118/118 [==============================] - 0s 2ms/step - loss: 0.5596 - accuracy: 0.7464\n",
            "Epoch 68/100\n",
            "118/118 [==============================] - 0s 2ms/step - loss: 0.5605 - accuracy: 0.7453\n",
            "Epoch 69/100\n",
            "118/118 [==============================] - 0s 2ms/step - loss: 0.5575 - accuracy: 0.7456\n",
            "Epoch 70/100\n",
            "118/118 [==============================] - 0s 2ms/step - loss: 0.5587 - accuracy: 0.7432\n",
            "Epoch 71/100\n",
            "118/118 [==============================] - 0s 2ms/step - loss: 0.5602 - accuracy: 0.7453\n",
            "Epoch 72/100\n",
            "118/118 [==============================] - 0s 2ms/step - loss: 0.5612 - accuracy: 0.7453\n",
            "Epoch 73/100\n",
            "118/118 [==============================] - 0s 2ms/step - loss: 0.5564 - accuracy: 0.7461\n",
            "Epoch 74/100\n",
            "118/118 [==============================] - 0s 2ms/step - loss: 0.5552 - accuracy: 0.7480\n",
            "Epoch 75/100\n",
            "118/118 [==============================] - 0s 2ms/step - loss: 0.5584 - accuracy: 0.7453\n",
            "Epoch 76/100\n",
            "118/118 [==============================] - 0s 2ms/step - loss: 0.5658 - accuracy: 0.7403\n",
            "Epoch 77/100\n",
            "118/118 [==============================] - 0s 2ms/step - loss: 0.5675 - accuracy: 0.7389\n",
            "Epoch 78/100\n",
            "118/118 [==============================] - 0s 2ms/step - loss: 0.5642 - accuracy: 0.7416\n",
            "Epoch 79/100\n",
            "118/118 [==============================] - 0s 2ms/step - loss: 0.5666 - accuracy: 0.7440\n",
            "Epoch 80/100\n",
            "118/118 [==============================] - 0s 2ms/step - loss: 0.5577 - accuracy: 0.7432\n",
            "Epoch 81/100\n",
            "118/118 [==============================] - 0s 2ms/step - loss: 0.5581 - accuracy: 0.7464\n",
            "Epoch 82/100\n",
            "118/118 [==============================] - 0s 2ms/step - loss: 0.5516 - accuracy: 0.7475\n",
            "Epoch 83/100\n",
            "118/118 [==============================] - 0s 2ms/step - loss: 0.5556 - accuracy: 0.7456\n",
            "Epoch 84/100\n",
            "118/118 [==============================] - 0s 3ms/step - loss: 0.5621 - accuracy: 0.7411\n",
            "Epoch 85/100\n",
            "118/118 [==============================] - 0s 3ms/step - loss: 0.5575 - accuracy: 0.7448\n",
            "Epoch 86/100\n",
            "118/118 [==============================] - 0s 3ms/step - loss: 0.5593 - accuracy: 0.7472\n",
            "Epoch 87/100\n",
            "118/118 [==============================] - 0s 3ms/step - loss: 0.5525 - accuracy: 0.7464\n",
            "Epoch 88/100\n",
            "118/118 [==============================] - 0s 3ms/step - loss: 0.5555 - accuracy: 0.7435\n",
            "Epoch 89/100\n",
            "118/118 [==============================] - 0s 3ms/step - loss: 0.5619 - accuracy: 0.7448\n",
            "Epoch 90/100\n",
            "118/118 [==============================] - 0s 3ms/step - loss: 0.5529 - accuracy: 0.7456\n",
            "Epoch 91/100\n",
            "118/118 [==============================] - 0s 3ms/step - loss: 0.5538 - accuracy: 0.7480\n",
            "Epoch 92/100\n",
            "118/118 [==============================] - 0s 3ms/step - loss: 0.5532 - accuracy: 0.7464\n",
            "Epoch 93/100\n",
            "118/118 [==============================] - 0s 2ms/step - loss: 0.5594 - accuracy: 0.7488\n",
            "Epoch 94/100\n",
            "118/118 [==============================] - 0s 2ms/step - loss: 0.5539 - accuracy: 0.7483\n",
            "Epoch 95/100\n",
            "118/118 [==============================] - 0s 2ms/step - loss: 0.5526 - accuracy: 0.7472\n",
            "Epoch 96/100\n",
            "118/118 [==============================] - 0s 2ms/step - loss: 0.5572 - accuracy: 0.7475\n",
            "Epoch 97/100\n",
            "118/118 [==============================] - 0s 2ms/step - loss: 0.5538 - accuracy: 0.7475\n",
            "Epoch 98/100\n",
            "118/118 [==============================] - 0s 2ms/step - loss: 0.5547 - accuracy: 0.7456\n",
            "Epoch 99/100\n",
            "118/118 [==============================] - 0s 2ms/step - loss: 0.5581 - accuracy: 0.7475\n",
            "Epoch 100/100\n",
            "118/118 [==============================] - 0s 2ms/step - loss: 0.5537 - accuracy: 0.7472\n"
          ]
        },
        {
          "output_type": "execute_result",
          "data": {
            "text/plain": [
              "<keras.callbacks.History at 0x7fa7fadbce50>"
            ]
          },
          "metadata": {},
          "execution_count": 48
        }
      ]
    },
    {
      "cell_type": "code",
      "source": [
        "ans = (model.predict(xtst)>0.5).astype(int)"
      ],
      "metadata": {
        "colab": {
          "base_uri": "https://localhost:8080/"
        },
        "id": "-xirY2lbprHv",
        "outputId": "325f9b96-afc5-4506-c517-067b0c2c452a"
      },
      "execution_count": 49,
      "outputs": [
        {
          "output_type": "stream",
          "name": "stdout",
          "text": [
            "40/40 [==============================] - 0s 1ms/step\n"
          ]
        }
      ]
    },
    {
      "cell_type": "code",
      "source": [
        "confusion_matrix(ans,ytst)"
      ],
      "metadata": {
        "colab": {
          "base_uri": "https://localhost:8080/"
        },
        "id": "BQcBsyFSqQcd",
        "outputId": "5673dfd0-7ba5-4060-9940-9c30bb67cdb5"
      },
      "execution_count": 50,
      "outputs": [
        {
          "output_type": "execute_result",
          "data": {
            "text/plain": [
              "array([[857, 330],\n",
              "       [ 10,  53]])"
            ]
          },
          "metadata": {},
          "execution_count": 50
        }
      ]
    },
    {
      "cell_type": "code",
      "source": [
        "print(classification_report(ans,ytst))"
      ],
      "metadata": {
        "colab": {
          "base_uri": "https://localhost:8080/"
        },
        "id": "PLxDLROkqZ49",
        "outputId": "c85f90ff-5c19-44ff-9112-c8f2da80d3d2"
      },
      "execution_count": 51,
      "outputs": [
        {
          "output_type": "stream",
          "name": "stdout",
          "text": [
            "              precision    recall  f1-score   support\n",
            "\n",
            "           0       0.99      0.72      0.83      1187\n",
            "           1       0.14      0.84      0.24        63\n",
            "\n",
            "    accuracy                           0.73      1250\n",
            "   macro avg       0.56      0.78      0.54      1250\n",
            "weighted avg       0.95      0.73      0.80      1250\n",
            "\n"
          ]
        }
      ]
    },
    {
      "cell_type": "code",
      "source": [],
      "metadata": {
        "id": "vxqsCehJqqsa"
      },
      "execution_count": null,
      "outputs": []
    }
  ]
}