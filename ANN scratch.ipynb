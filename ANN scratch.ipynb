{
 "cells": [
  {
   "cell_type": "code",
   "execution_count": 1,
   "id": "5bc3253c",
   "metadata": {},
   "outputs": [],
   "source": [
    "import numpy as np"
   ]
  },
  {
   "cell_type": "code",
   "execution_count": 2,
   "id": "32a04349",
   "metadata": {},
   "outputs": [],
   "source": [
    "# Input data - features\n",
    "X = np.array([[0, 0], [0, 1], [1, 0], [1, 1]])\n",
    "# Output data - labels\n",
    "y = np.array([[0], [1], [1], [0]])"
   ]
  },
  {
   "cell_type": "code",
   "execution_count": 6,
   "id": "c184d977",
   "metadata": {},
   "outputs": [],
   "source": [
    "# Number of neurons in hidden layer\n",
    "num_hidden = 4\n",
    "# Learning rate\n",
    "learning_rate = 0.1\n",
    "# Number of training iterations\n",
    "num_iterations = 10000"
   ]
  },
  {
   "cell_type": "code",
   "execution_count": 7,
   "id": "aa85e120",
   "metadata": {},
   "outputs": [],
   "source": [
    "input_layer_weights = np.random.normal(size=(2, num_hidden))\n",
    "input_layer_bias = np.random.normal(size=(1, num_hidden))\n",
    "\n",
    "\n",
    "output_layer_weights = np.random.normal(size=(num_hidden, 1))\n",
    "output_layer_bias = np.random.normal(size=(1, 1))"
   ]
  },
  {
   "cell_type": "code",
   "execution_count": 8,
   "id": "dfbf15e9",
   "metadata": {},
   "outputs": [],
   "source": [
    "def sigmoid(x):\n",
    "    return 1 / (1 + np.exp(-x))\n",
    "\n",
    "# Derivative of sigmoid function\n",
    "def sigmoid_derivative(x):\n",
    "    return sigmoid(x) * (1 - sigmoid(x))"
   ]
  },
  {
   "cell_type": "code",
   "execution_count": 9,
   "id": "04d224cb",
   "metadata": {},
   "outputs": [],
   "source": [
    "for i in range(num_iterations):\n",
    "    # Forward propagation\n",
    "    hidden_layer_activation = np.dot(X, input_layer_weights)\n",
    "    hidden_layer_activation += input_layer_bias\n",
    "    hidden_layer_output = sigmoid(hidden_layer_activation)\n",
    "    \n",
    "    output_layer_activation = np.dot(hidden_layer_output, output_layer_weights)\n",
    "    output_layer_activation += output_layer_bias\n",
    "    \n",
    "    predicted_output = sigmoid(output_layer_activation)\n",
    "    \n",
    "    # Backpropagation\n",
    "    error = y - predicted_output\n",
    "    d_predicted_output = error * sigmoid_derivative(predicted_output)\n",
    "    \n",
    "    error_hidden_layer = d_predicted_output.dot(output_layer_weights.T)\n",
    "    d_hidden_layer = error_hidden_layer * sigmoid_derivative(hidden_layer_output)\n",
    "    \n",
    "    # Update weights and biases\n",
    "    output_layer_weights += hidden_layer_output.T.dot(d_predicted_output) * learning_rate\n",
    "    \n",
    "    output_layer_bias += np.sum(d_predicted_output, axis=0, keepdims=True) * learning_rate\n",
    "    \n",
    "    input_layer_weights += X.T.dot(d_hidden_layer) * learning_rate\n",
    "    \n",
    "    input_layer_bias += np.sum(d_hidden_layer, axis=0, keepdims=True) * learning_rate\n"
   ]
  },
  {
   "cell_type": "code",
   "execution_count": 20,
   "id": "4eace652",
   "metadata": {},
   "outputs": [
    {
     "name": "stdout",
     "output_type": "stream",
     "text": [
      "[[0.51725498]]\n"
     ]
    },
    {
     "data": {
      "text/plain": [
       "array([[1]])"
      ]
     },
     "execution_count": 20,
     "metadata": {},
     "output_type": "execute_result"
    }
   ],
   "source": [
    "X_new = np.array([[1,1]])\n",
    "\n",
    "# Predictions\n",
    "hidden_layer_activation = np.dot(X_new, input_layer_weights)\n",
    "hidden_layer_activation += input_layer_bias\n",
    "\n",
    "hidden_layer_output = sigmoid(hidden_layer_activation)\n",
    "\n",
    "output_layer_activation = np.dot(hidden_layer_output, output_layer_weights)\n",
    "output_layer_activation += output_layer_bias\n",
    "\n",
    "predicted_output = sigmoid(output_layer_activation)\n",
    "\n",
    "# Print predictions\n",
    "print(predicted_output)\n",
    "predicted_class = (predicted_output >= 0.5).astype(int)\n",
    "predicted_class"
   ]
  },
  {
   "cell_type": "code",
   "execution_count": null,
   "id": "861c663c",
   "metadata": {},
   "outputs": [],
   "source": []
  },
  {
   "cell_type": "code",
   "execution_count": null,
   "id": "6a0c3d27",
   "metadata": {},
   "outputs": [],
   "source": []
  }
 ],
 "metadata": {
  "kernelspec": {
   "display_name": "Python 3 (ipykernel)",
   "language": "python",
   "name": "python3"
  },
  "language_info": {
   "codemirror_mode": {
    "name": "ipython",
    "version": 3
   },
   "file_extension": ".py",
   "mimetype": "text/x-python",
   "name": "python",
   "nbconvert_exporter": "python",
   "pygments_lexer": "ipython3",
   "version": "3.9.12"
  }
 },
 "nbformat": 4,
 "nbformat_minor": 5
}
