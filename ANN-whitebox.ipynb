{
 "cells": [
  {
   "cell_type": "code",
   "execution_count": 1,
   "metadata": {},
   "outputs": [],
   "source": [
    "import numpy as np\n",
    "import sklearn.datasets\n",
    "import tensorflow as tf"
   ]
  },
  {
   "cell_type": "code",
   "execution_count": 2,
   "metadata": {},
   "outputs": [],
   "source": [
    "from sklearn.metrics import accuracy_score \n",
    "from tensorflow.keras.losses import mean_squared_error"
   ]
  },
  {
   "cell_type": "code",
   "execution_count": 3,
   "metadata": {},
   "outputs": [],
   "source": [
    "(x_train,y_train),(x_test,y_test)=tf.keras.datasets.mnist.load_data()"
   ]
  },
  {
   "cell_type": "code",
   "execution_count": 4,
   "metadata": {},
   "outputs": [
    {
     "name": "stdout",
     "output_type": "stream",
     "text": [
      "(60000, 28, 28)\n",
      "(60000,)\n",
      "(10000, 28, 28)\n",
      "(10000,)\n"
     ]
    }
   ],
   "source": [
    "print(x_train.shape)\n",
    "print(y_train.shape)\n",
    "print(x_test.shape)\n",
    "print(y_test.shape)"
   ]
  },
  {
   "cell_type": "code",
   "execution_count": 5,
   "metadata": {},
   "outputs": [],
   "source": [
    "from sklearn.preprocessing import StandardScaler\n",
    "\n",
    "sc = StandardScaler()"
   ]
  },
  {
   "cell_type": "code",
   "execution_count": 6,
   "metadata": {},
   "outputs": [],
   "source": [
    "x_train=x_train.reshape(60000,784)\n",
    "x_test=x_test.reshape(10000,784)\n",
    "x_train=sc.fit_transform(x_train)\n",
    "x_test=sc.transform(x_test)"
   ]
  },
  {
   "cell_type": "code",
   "execution_count": 7,
   "metadata": {},
   "outputs": [],
   "source": [
    "import pandas as pd"
   ]
  },
  {
   "cell_type": "code",
   "execution_count": 8,
   "metadata": {},
   "outputs": [],
   "source": [
    "y_train1 = pd.DataFrame(y_train).astype('str')\n",
    "y_train1 = pd.get_dummies(y_train1)"
   ]
  },
  {
   "cell_type": "code",
   "execution_count": 9,
   "metadata": {},
   "outputs": [],
   "source": [
    "y_train1 = y_train1.to_numpy(int)"
   ]
  },
  {
   "cell_type": "code",
   "execution_count": 15,
   "metadata": {},
   "outputs": [],
   "source": [
    "def ReLU(x):\n",
    "    return np.maximum(0,x)\n",
    "\n",
    "def ReLU_derivative(x):\n",
    "    return np.where(x>0,1,0)\n",
    "\n",
    "def softmax(x):\n",
    "    e_x = np.exp(x - np.max(x))\n",
    "    return e_x / e_x.sum(axis=0)"
   ]
  },
  {
   "cell_type": "code",
   "execution_count": 16,
   "metadata": {},
   "outputs": [],
   "source": [
    "# def gradientclip(x):\n",
    "    # return np.where(np.where(x<-10,1,x)>10,1,x)"
   ]
  },
  {
   "cell_type": "code",
   "execution_count": 17,
   "metadata": {},
   "outputs": [],
   "source": [
    "class NeuralNetwork:\n",
    "    def __init__(self,input_size,hidden1_Size,hidden2_size,hidden3_size,output_size):\n",
    "        #(hidden_layer1)\n",
    "        self.w1= np.random.random((input_size,hidden1_Size)) *0.1 - 0.05\n",
    "        self.b1= np.zeros((hidden1_Size)) \n",
    "\n",
    "        #(hidden layer2)      \n",
    "        self.w2=np.random.random((hidden1_Size,hidden2_size)) *0.1 - 0.05\n",
    "        self.b2=np.zeros((hidden2_size))\n",
    "\n",
    "        #(hidden layer3)\n",
    "        self.w3 =np.random.random((hidden2_size,hidden3_size)) *0.1 - 0.05\n",
    "        self.b3 =np.zeros((hidden3_size))\n",
    "\n",
    "        #(output_layer)\n",
    "        self.w4 =np.random.random((hidden3_size,output_size)) *0.1 - 0.05\n",
    "        self.b4 =np.zeros((output_size))\n",
    "\n",
    "    \n",
    "    def forward(self,x):\n",
    "        self.x1=np.dot(x,self.w1) + self.b1\n",
    "        self.y1=ReLU(self.x1) #output of hidden_layer1\n",
    "        self.x2=np.dot(self.y1,self.w2) + self.b2\n",
    "        self.y2=ReLU(self.x2)\n",
    "        self.x3=np.dot(self.y2,self.w3) + self.b3\n",
    "        self.y3=ReLU(self.x3)\n",
    "        self.x4=np.dot(self.y3,self.w4) + self.b4\n",
    "        self.o=tf.nn.softmax(self.x4)\n",
    "        #print(self.o.numpy())\n",
    "\n",
    "        return self.o.numpy()\n",
    "\n",
    "    def backward(self,o,x,y,alpha):\n",
    "        output_delta = (y-o) * 0.01\n",
    "        #print(output_delta)\n",
    "        hidden3_error = output_delta.dot(self.w4.T)\n",
    "        hidden3_delta=hidden3_error*(ReLU_derivative(self.y3))\n",
    "\n",
    "        hidden2_error = hidden3_delta.dot(self.w3.T)\n",
    "        hidden2_delta= hidden2_error*(ReLU_derivative(self.y2))\n",
    "        \n",
    "        hidden1_error = hidden2_delta.dot(self.w2.T)\n",
    "        hidden1_delta = hidden1_error*(ReLU_derivative(self.y1))\n",
    "\n",
    "        self.w4+=(self.y3.T.dot(output_delta)*alpha)\n",
    "        self.w3+=(self.y2.T.dot(hidden3_delta)*alpha)\n",
    "        self.w2+=(self.y1.T.dot(hidden2_delta)*alpha)\n",
    "        self.w1+=(x.reshape(1,784).T.dot(hidden1_delta)*alpha)\n",
    "\n",
    "        self.b4+=(np.sum(output_delta,0)*alpha)/y.shape[0]\n",
    "        self.b3+=(np.sum(hidden3_delta,0)*alpha)/y.shape[0]\n",
    "        self.b2+=(np.sum(hidden2_delta,0)*alpha)/y.shape[0]\n",
    "        self.b1+=(np.sum(hidden1_delta,0)*alpha)/y.shape[0]\n",
    "\n",
    "        #print('bias:',self.y1.T.dot(hidden2_delta)*alpha)\n",
    "\n",
    "    def train(self,x,y_t,y,alpha,epoch):\n",
    "        LOSS=np.zeros(epoch,'float64')\n",
    "        ACCURACY=np.zeros(epoch,'float64')\n",
    "        for j in range(epoch):\n",
    "            for i in range(len(x)):\n",
    "                o = self.forward(x[i].reshape(1,784))\n",
    "                self.backward(o,x[i],y_t[i].reshape(1,10),alpha)\n",
    "            \n",
    "            ot=self.forward(x)\n",
    "            LOSS[j]=np.sum(mean_squared_error(y_t,ot))\n",
    "            ACCURACY[j]=accuracy_score(y,np.argmax(ot,axis=1))\n",
    "            print('epoch:',j,'loss:',LOSS[j],'accuracy:',ACCURACY[j])\n",
    "    \n",
    "    def predict(self,x):\n",
    "        o = self.forward(x)\n",
    "        return np.argmax(o,axis=1)\n",
    "\n",
    "   \n",
    "        \n"
   ]
  },
  {
   "cell_type": "code",
   "execution_count": 18,
   "metadata": {},
   "outputs": [],
   "source": [
    "nn=NeuralNetwork(784,32,25,16,10)"
   ]
  },
  {
   "cell_type": "code",
   "execution_count": 19,
   "metadata": {},
   "outputs": [
    {
     "name": "stdout",
     "output_type": "stream",
     "text": [
      "epoch: 0 loss: 5397.3555811991655 accuracy: 0.11236666666666667\n",
      "epoch: 1 loss: 4966.007343497299 accuracy: 0.22228333333333333\n",
      "epoch: 2 loss: 1477.4742776024614 accuracy: 0.8460166666666666\n",
      "epoch: 3 loss: 807.9965022513396 accuracy: 0.9110166666666667\n",
      "epoch: 4 loss: 599.4303395068055 accuracy: 0.9342333333333334\n",
      "epoch: 5 loss: 511.1068706063887 accuracy: 0.9438666666666666\n",
      "epoch: 6 loss: 441.9768046088677 accuracy: 0.9516166666666667\n",
      "epoch: 7 loss: 388.0824606933768 accuracy: 0.9579166666666666\n",
      "epoch: 8 loss: 344.11265356548654 accuracy: 0.9629666666666666\n",
      "epoch: 9 loss: 309.815950035895 accuracy: 0.9665833333333333\n"
     ]
    }
   ],
   "source": [
    "nn.train(x_train,y_train1,y_train,0.05,10)"
   ]
  },
  {
   "cell_type": "code",
   "execution_count": 20,
   "metadata": {},
   "outputs": [
    {
     "name": "stdout",
     "output_type": "stream",
     "text": [
      "epoch: 0 loss: 328.6657575136547 accuracy: 0.9642666666666667\n",
      "epoch: 1 loss: 311.0424989611912 accuracy: 0.9655833333333333\n",
      "epoch: 2 loss: 283.1936567612685 accuracy: 0.9688166666666667\n",
      "epoch: 3 loss: 249.9099876570859 accuracy: 0.9718333333333333\n",
      "epoch: 4 loss: 255.93865146365383 accuracy: 0.97155\n",
      "epoch: 5 loss: 231.250951500028 accuracy: 0.9742833333333333\n",
      "epoch: 6 loss: 228.02241584171603 accuracy: 0.9748\n",
      "epoch: 7 loss: 228.33881267401054 accuracy: 0.9747166666666667\n",
      "epoch: 8 loss: 254.69440796121458 accuracy: 0.9723333333333334\n",
      "epoch: 9 loss: 198.6622333166239 accuracy: 0.9779333333333333\n",
      "epoch: 10 loss: 202.2657770423403 accuracy: 0.9776166666666667\n",
      "epoch: 11 loss: 181.6412207620764 accuracy: 0.9804333333333334\n",
      "epoch: 12 loss: 175.3607047467918 accuracy: 0.9808166666666667\n",
      "epoch: 13 loss: 190.9336170434245 accuracy: 0.97935\n",
      "epoch: 14 loss: 152.55330482672196 accuracy: 0.9832666666666666\n",
      "epoch: 15 loss: 157.90026882852504 accuracy: 0.98285\n",
      "epoch: 16 loss: 143.3379279780698 accuracy: 0.9840666666666666\n",
      "epoch: 17 loss: 144.15594337520818 accuracy: 0.9844833333333334\n",
      "epoch: 18 loss: 185.69190104232777 accuracy: 0.9801666666666666\n",
      "epoch: 19 loss: 147.22999599048515 accuracy: 0.9841166666666666\n"
     ]
    }
   ],
   "source": [
    "nn.train(x_train,y_train1,y_train,0.1,20)"
   ]
  },
  {
   "cell_type": "code",
   "execution_count": 21,
   "metadata": {},
   "outputs": [
    {
     "data": {
      "text/plain": [
       "0.9573"
      ]
     },
     "execution_count": 21,
     "metadata": {},
     "output_type": "execute_result"
    }
   ],
   "source": [
    "accuracy_score(y_test,nn.predict(x_test))"
   ]
  },
  {
   "cell_type": "code",
   "execution_count": 22,
   "metadata": {},
   "outputs": [
    {
     "data": {
      "text/plain": [
       "array([7, 2, 1, ..., 4, 5, 6], dtype=int64)"
      ]
     },
     "execution_count": 22,
     "metadata": {},
     "output_type": "execute_result"
    }
   ],
   "source": [
    "nn.predict(x_test)"
   ]
  },
  {
   "cell_type": "markdown",
   "metadata": {},
   "source": [
    "## ANN from keras"
   ]
  },
  {
   "cell_type": "code",
   "execution_count": 29,
   "metadata": {},
   "outputs": [],
   "source": [
    "model = tf.keras.Sequential([\n",
    "    tf.keras.layers.Dense(units=56,activation='relu'),\n",
    "    tf.keras.layers.Dense(units=32,activation='relu'),\n",
    "    tf.keras.layers.Dense(units=16,activation='relu'),\n",
    "    tf.keras.layers.Dense(units=10,activation='softmax')\n",
    "])\n"
   ]
  },
  {
   "cell_type": "code",
   "execution_count": 30,
   "metadata": {},
   "outputs": [],
   "source": [
    "model.compile(optimizer='adam',loss=tf.keras.losses.categorical_crossentropy,metrics=['accuracy'])"
   ]
  },
  {
   "cell_type": "code",
   "execution_count": 34,
   "metadata": {},
   "outputs": [
    {
     "name": "stdout",
     "output_type": "stream",
     "text": [
      "Epoch 1/20\n",
      "1875/1875 [==============================] - 5s 3ms/step - loss: 0.1143 - accuracy: 0.9646\n",
      "Epoch 2/20\n",
      "1875/1875 [==============================] - 5s 3ms/step - loss: 0.0926 - accuracy: 0.9714\n",
      "Epoch 3/20\n",
      "1875/1875 [==============================] - 5s 2ms/step - loss: 0.0723 - accuracy: 0.9771\n",
      "Epoch 4/20\n",
      "1875/1875 [==============================] - 5s 3ms/step - loss: 0.0624 - accuracy: 0.9804\n",
      "Epoch 5/20\n",
      "1875/1875 [==============================] - 4s 2ms/step - loss: 0.0522 - accuracy: 0.9826\n",
      "Epoch 6/20\n",
      "1875/1875 [==============================] - 5s 3ms/step - loss: 0.0443 - accuracy: 0.9855\n",
      "Epoch 7/20\n",
      "1875/1875 [==============================] - 5s 3ms/step - loss: 0.0402 - accuracy: 0.9870\n",
      "Epoch 8/20\n",
      "1875/1875 [==============================] - 5s 3ms/step - loss: 0.0374 - accuracy: 0.9880\n",
      "Epoch 9/20\n",
      "1875/1875 [==============================] - 6s 3ms/step - loss: 0.0343 - accuracy: 0.9886\n",
      "Epoch 10/20\n",
      "1875/1875 [==============================] - 5s 3ms/step - loss: 0.0318 - accuracy: 0.9898\n",
      "Epoch 11/20\n",
      "1875/1875 [==============================] - 5s 2ms/step - loss: 0.0250 - accuracy: 0.9917\n",
      "Epoch 12/20\n",
      "1875/1875 [==============================] - 5s 2ms/step - loss: 0.0294 - accuracy: 0.9903\n",
      "Epoch 13/20\n",
      "1875/1875 [==============================] - 5s 3ms/step - loss: 0.0242 - accuracy: 0.9923\n",
      "Epoch 14/20\n",
      "1875/1875 [==============================] - 5s 2ms/step - loss: 0.0227 - accuracy: 0.9926\n",
      "Epoch 15/20\n",
      "1875/1875 [==============================] - 5s 3ms/step - loss: 0.0229 - accuracy: 0.9927\n",
      "Epoch 16/20\n",
      "1875/1875 [==============================] - 4s 2ms/step - loss: 0.0204 - accuracy: 0.9938\n",
      "Epoch 17/20\n",
      "1875/1875 [==============================] - 4s 2ms/step - loss: 0.0186 - accuracy: 0.9937\n",
      "Epoch 18/20\n",
      "1875/1875 [==============================] - 5s 3ms/step - loss: 0.0222 - accuracy: 0.9935\n",
      "Epoch 19/20\n",
      "1875/1875 [==============================] - 4s 2ms/step - loss: 0.0181 - accuracy: 0.9944\n",
      "Epoch 20/20\n",
      "1875/1875 [==============================] - 4s 2ms/step - loss: 0.0207 - accuracy: 0.9938\n"
     ]
    },
    {
     "data": {
      "text/plain": [
       "<keras.callbacks.History at 0x2235570e710>"
      ]
     },
     "execution_count": 34,
     "metadata": {},
     "output_type": "execute_result"
    }
   ],
   "source": [
    "model.fit(x_train,y_train1,epochs=20)"
   ]
  },
  {
   "cell_type": "code",
   "execution_count": 35,
   "metadata": {},
   "outputs": [
    {
     "name": "stdout",
     "output_type": "stream",
     "text": [
      "313/313 [==============================] - 1s 3ms/step\n"
     ]
    },
    {
     "data": {
      "text/plain": [
       "0.9663"
      ]
     },
     "execution_count": 35,
     "metadata": {},
     "output_type": "execute_result"
    }
   ],
   "source": [
    "accuracy_score(y_test,np.argmax(model.predict(x_test),1))"
   ]
  },
  {
   "cell_type": "code",
   "execution_count": null,
   "metadata": {},
   "outputs": [
    {
     "data": {
      "text/plain": [
       "8"
      ]
     },
     "metadata": {},
     "output_type": "display_data"
    }
   ],
   "source": []
  }
 ],
 "metadata": {
  "kernelspec": {
   "display_name": "Python 3 (ipykernel)",
   "language": "python",
   "name": "python3"
  },
  "language_info": {
   "codemirror_mode": {
    "name": "ipython",
    "version": 3
   },
   "file_extension": ".py",
   "mimetype": "text/x-python",
   "name": "python",
   "nbconvert_exporter": "python",
   "pygments_lexer": "ipython3",
   "version": "3.9.13"
  }
 },
 "nbformat": 4,
 "nbformat_minor": 2
}
