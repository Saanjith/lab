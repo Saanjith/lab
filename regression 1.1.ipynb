{
 "cells": [
  {
   "cell_type": "code",
   "execution_count": 1,
   "id": "c7e09868",
   "metadata": {},
   "outputs": [],
   "source": [
    "#import necessary libraries\n",
    "import pandas as pd\n",
    "import numpy as np\n",
    "import math\n",
    "import operator\n",
    "import matplotlib.pyplot as plt\n",
    "%matplotlib inline"
   ]
  },
  {
   "cell_type": "code",
   "execution_count": 2,
   "id": "987821b4",
   "metadata": {},
   "outputs": [
    {
     "name": "stdout",
     "output_type": "stream",
     "text": [
      "15.6 79.7\n"
     ]
    }
   ],
   "source": [
    "data=pd.read_csv(r\"C:\\Users\\91988_226zeco\\Downloads\\data1.csv\")\n",
    "X = data[\"x\"].values\n",
    "Y= data[\"y\"].values\n",
    "# calculate mean of x & y using an inbuilt numpy method mean()\n",
    "mean_x = np.mean(X)\n",
    "mean_y = np.mean(Y)\n",
    "print(mean_x,mean_y)"
   ]
  },
  {
   "cell_type": "code",
   "execution_count": 3,
   "id": "27fa74b9",
   "metadata": {},
   "outputs": [
    {
     "name": "stdout",
     "output_type": "stream",
     "text": [
      "3.1792452830188656 30.103773584905703\n"
     ]
    }
   ],
   "source": [
    "m = len(X)\n",
    "\n",
    "# using the formula to calculate m & c\n",
    "numer = 0\n",
    "denom = 0\n",
    "for i in range(m):\n",
    "  numer += (X[i] - mean_x) * (Y[i] - mean_y)\n",
    "  denom += (X[i] - mean_x) ** 2\n",
    "m = numer / denom\n",
    "c = mean_y - (m * mean_x)\n",
    "print(m,c)"
   ]
  },
  {
   "cell_type": "code",
   "execution_count": 4,
   "id": "d0eec01d",
   "metadata": {},
   "outputs": [
    {
     "data": {
      "text/plain": [
       "(0.0, 20.0)"
      ]
     },
     "execution_count": 4,
     "metadata": {},
     "output_type": "execute_result"
    },
    {
     "data": {
      "image/png": "[encoded data removed]",
      "text/plain": [
       "<Figure size 432x288 with 1 Axes>"
      ]
     },
     "metadata": {
      "needs_background": "light"
     },
     "output_type": "display_data"
    }
   ],
   "source": [
    "y = c + m * X\n",
    "plt.plot(X, y, color='#58b970', label='Regression Line')\n",
    "plt.scatter(X, Y, c='#ef5423', label='data points')\n",
    "plt.ylim(0,100)\n",
    "plt.xlim(0,20)"
   ]
  },
  {
   "cell_type": "code",
   "execution_count": 5,
   "id": "49b7b906",
   "metadata": {},
   "outputs": [
    {
     "data": {
      "text/plain": [
       "array([84.1509434 , 71.43396226, 68.25471698, 77.79245283, 80.97169811,\n",
       "       74.61320755, 80.97169811, 80.97169811, 87.33018868, 90.50943396,\n",
       "       84.1509434 , 71.43396226, 68.25471698, 77.79245283, 80.97169811,\n",
       "       74.61320755, 80.97169811, 80.97169811, 87.33018868, 90.50943396,\n",
       "       84.1509434 , 71.43396226, 68.25471698, 77.79245283, 80.97169811,\n",
       "       74.61320755, 80.97169811, 80.97169811, 87.33018868, 90.50943396,\n",
       "       84.1509434 , 71.43396226, 68.25471698, 77.79245283, 80.97169811,\n",
       "       74.61320755, 80.97169811, 80.97169811, 87.33018868, 90.50943396,\n",
       "       84.1509434 , 71.43396226, 68.25471698, 77.79245283, 80.97169811,\n",
       "       74.61320755, 80.97169811, 80.97169811, 87.33018868, 90.50943396,\n",
       "       84.1509434 , 71.43396226, 68.25471698, 77.79245283, 80.97169811,\n",
       "       74.61320755, 80.97169811, 80.97169811, 87.33018868, 90.50943396,\n",
       "       84.1509434 , 71.43396226, 68.25471698, 77.79245283, 80.97169811,\n",
       "       74.61320755, 80.97169811, 80.97169811, 87.33018868, 90.50943396,\n",
       "       84.1509434 , 71.43396226, 68.25471698, 77.79245283, 80.97169811,\n",
       "       74.61320755, 80.97169811, 80.97169811, 87.33018868, 90.50943396,\n",
       "       84.1509434 , 71.43396226, 68.25471698, 77.79245283, 80.97169811,\n",
       "       74.61320755, 80.97169811, 80.97169811, 87.33018868, 90.50943396,\n",
       "       84.1509434 , 71.43396226, 68.25471698, 77.79245283, 80.97169811,\n",
       "       74.61320755, 80.97169811, 80.97169811, 87.33018868, 90.50943396,\n",
       "       84.1509434 , 71.43396226, 68.25471698, 77.79245283, 80.97169811,\n",
       "       74.61320755, 80.97169811, 80.97169811, 87.33018868, 90.50943396,\n",
       "       84.1509434 , 71.43396226, 68.25471698, 77.79245283, 80.97169811,\n",
       "       74.61320755, 80.97169811, 80.97169811, 87.33018868, 90.50943396])"
      ]
     },
     "execution_count": 5,
     "metadata": {},
     "output_type": "execute_result"
    }
   ],
   "source": [
    "y"
   ]
  },
  {
   "cell_type": "code",
   "execution_count": 6,
   "id": "6c601b11",
   "metadata": {},
   "outputs": [],
   "source": [
    "mean_pred=np.mean(y)"
   ]
  },
  {
   "cell_type": "code",
   "execution_count": 7,
   "id": "5d814279",
   "metadata": {},
   "outputs": [
    {
     "data": {
      "text/plain": [
       "79.70000000000003"
      ]
     },
     "execution_count": 7,
     "metadata": {},
     "output_type": "execute_result"
    }
   ],
   "source": [
    "mean_pred"
   ]
  },
  {
   "cell_type": "code",
   "execution_count": 8,
   "id": "d83a07f4",
   "metadata": {},
   "outputs": [],
   "source": [
    "diff=0\n",
    "for i in range(len(Y)):  \n",
    "    diff += (Y[i]-mean_pred)**2"
   ]
  },
  {
   "cell_type": "code",
   "execution_count": 9,
   "id": "25b3b24d",
   "metadata": {},
   "outputs": [
    {
     "data": {
      "text/plain": [
       "10.98225841983333"
      ]
     },
     "execution_count": 9,
     "metadata": {},
     "output_type": "execute_result"
    }
   ],
   "source": [
    "rmse=math.sqrt(diff/len(Y))\n",
    "rmse"
   ]
  },
  {
   "cell_type": "code",
   "execution_count": 10,
   "id": "35710785",
   "metadata": {},
   "outputs": [],
   "source": [
    "diff1=0\n",
    "for i in range(len(Y)):  \n",
    "    diff1 += np.abs(Y[i]-mean_pred)"
   ]
  },
  {
   "cell_type": "code",
   "execution_count": 11,
   "id": "c5e55c57",
   "metadata": {},
   "outputs": [],
   "source": [
    "mae=diff1/len(Y)"
   ]
  },
  {
   "cell_type": "code",
   "execution_count": 12,
   "id": "55db1e3d",
   "metadata": {},
   "outputs": [
    {
     "data": {
      "text/plain": [
       "8.9"
      ]
     },
     "execution_count": 12,
     "metadata": {},
     "output_type": "execute_result"
    }
   ],
   "source": [
    "mae"
   ]
  }
 ],
 "metadata": {
  "kernelspec": {
   "display_name": "Python 3 (ipykernel)",
   "language": "python",
   "name": "python3"
  },
  "language_info": {
   "codemirror_mode": {
    "name": "ipython",
    "version": 3
   },
   "file_extension": ".py",
   "mimetype": "text/x-python",
   "name": "python",
   "nbconvert_exporter": "python",
   "pygments_lexer": "ipython3",
   "version": "3.9.12"
  }
 },
 "nbformat": 4,
 "nbformat_minor": 5
}
