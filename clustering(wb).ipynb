{
 "cells": [
  {
   "cell_type": "code",
   "execution_count": 1,
   "id": "33b2fbee",
   "metadata": {},
   "outputs": [],
   "source": [
    "import pandas as pd\n",
    "import numpy as np\n",
    "import random \n",
    "import math\n",
    "import matplotlib.pyplot as plt\n",
    "from collections import Counter\n",
    "from sklearn.datasets import make_blobs"
   ]
  },
  {
   "cell_type": "code",
   "execution_count": 2,
   "id": "d825f990",
   "metadata": {},
   "outputs": [],
   "source": [
    "X, Y = make_blobs(n_samples = 1000, centers = 3, cluster_std = 0.5, n_features = 2)\n"
   ]
  },
  {
   "cell_type": "code",
   "execution_count": 3,
   "id": "a310bed4",
   "metadata": {},
   "outputs": [
    {
     "data": {
      "text/plain": [
       "array([[-9.33665096,  0.14862217],\n",
       "       [ 9.43278366,  9.86999717],\n",
       "       [-0.06044045, -1.8233584 ],\n",
       "       ...,\n",
       "       [-0.46889418, -2.77232644],\n",
       "       [-8.26201142, -1.10080146],\n",
       "       [ 9.54668691,  9.71174047]])"
      ]
     },
     "execution_count": 3,
     "metadata": {},
     "output_type": "execute_result"
    }
   ],
   "source": [
    "X"
   ]
  },
  {
   "cell_type": "code",
   "execution_count": 4,
   "id": "56bd58fa",
   "metadata": {},
   "outputs": [],
   "source": [
    "x = [i[0] for i in X]\n",
    "y = [i[1] for i in X]"
   ]
  },
  {
   "cell_type": "code",
   "execution_count": 5,
   "id": "a3b43610",
   "metadata": {},
   "outputs": [
    {
     "data": {
      "text/plain": [
       "(1000, 1000)"
      ]
     },
     "execution_count": 5,
     "metadata": {},
     "output_type": "execute_result"
    }
   ],
   "source": [
    "len(y) , len(x)"
   ]
  },
  {
   "cell_type": "code",
   "execution_count": 6,
   "id": "c0ce1ec5",
   "metadata": {},
   "outputs": [],
   "source": [
    "points = [(x[i] , y[i]) for i in range(1000)]"
   ]
  },
  {
   "cell_type": "code",
   "execution_count": 7,
   "id": "ef9854c0",
   "metadata": {},
   "outputs": [
    {
     "data": {
      "text/plain": [
       "<matplotlib.collections.PathCollection at 0x1605d8f3580>"
      ]
     },
     "execution_count": 7,
     "metadata": {},
     "output_type": "execute_result"
    },
    {
     "data": {
      "image/png": "[encoded data removed]",
      "text/plain": [
       "<Figure size 640x480 with 1 Axes>"
      ]
     },
     "metadata": {},
     "output_type": "display_data"
    }
   ],
   "source": [
    "plt.scatter(x , y)"
   ]
  },
  {
   "cell_type": "code",
   "execution_count": 8,
   "id": "ead75d9c",
   "metadata": {},
   "outputs": [],
   "source": [
    "def distance(x_c , y_c , x_p , y_p ):\n",
    "    return (x_c - x_p)**2 + (y_c - y_p)**2"
   ]
  },
  {
   "cell_type": "code",
   "execution_count": 9,
   "id": "465ea8a8",
   "metadata": {},
   "outputs": [],
   "source": [
    "def kmeans(n_clusters , points  ,  n_epochs = 500 , exhaust = False , display = False):\n",
    "    cluster_x = [[] for i in range(n_clusters)]\n",
    "    cluster_y = [[] for i in range(n_clusters)]\n",
    "    meta_class = []\n",
    "    if exhaust == False:\n",
    "        for epoch in range(1 , n_epochs+1):\n",
    "            if (display == True):\n",
    "                print(\"Epoch : \" , epoch )\n",
    "                print(Counter(meta_class))\n",
    "            if (epoch == 1):\n",
    "                #First Epoch\n",
    "                centroids_x = np.array([random.random() for i in range(n_clusters)])\n",
    "                centroids_y = np.array([random.random() for i in range(n_clusters)])\n",
    "            else:\n",
    "                #From Second Epoch onwards , the new centroid is the mean of meta class classification\n",
    "                centroids_x = [np.mean(clusters) for clusters in cluster_x]\n",
    "                centroids_y = [np.mean(clusters) for clusters in cluster_y]\n",
    "                meta_class = []\n",
    "            for point in points:\n",
    "                x_c , y_c = point[0] , point[1]\n",
    "                #print(x_c , y_c)\n",
    "                distance_from_centroid = []\n",
    "                for point_index in range(n_clusters):\n",
    "                    distance_from_centroid.append(distance(x_c , y_c , centroids_x[point_index] , centroids_y[point_index]))\n",
    "                meta_class.append(distance_from_centroid.index(min(distance_from_centroid)))\n",
    "            for i in range(len(points)):\n",
    "                class_ = meta_class[i]\n",
    "                cluster_x[class_].append(points[i][0])\n",
    "                cluster_y[class_].append(points[i][1])\n",
    "        centroids = [[centroids_x[i] , centroids_y[i]] for i in range(n_clusters)]\n",
    "        return (meta_class , centroids)\n",
    "            #print(centroids_x)\n",
    "            #print(centroids_y)"
   ]
  },
  {
   "cell_type": "code",
   "execution_count": 10,
   "id": "d832c963",
   "metadata": {},
   "outputs": [],
   "source": [
    "def seperate_classes(classes_ , n_clusters):\n",
    "    seperated = [[] for i in range(n_clusters)]\n",
    "    index = 0\n",
    "    for i in classes_:\n",
    "        seperated[i].append(index)\n",
    "        index+=1\n",
    "    return seperated"
   ]
  },
  {
   "cell_type": "code",
   "execution_count": 11,
   "id": "9c347152",
   "metadata": {},
   "outputs": [],
   "source": [
    "def wcss(n_clusters , seperated , centroids):\n",
    "    wcss = 0\n",
    "    for i in range(n_clusters):\n",
    "        xc = centroids[i][0]\n",
    "        yc = centroids[i][1]\n",
    "        point_ind = seperated[i]\n",
    "        for j in point_ind:\n",
    "            xp = points[j][0]\n",
    "            yp = points[j][1]\n",
    "            wcss+=distance(xc , yc , xp , yp)\n",
    "    return wcss"
   ]
  },
  {
   "cell_type": "code",
   "execution_count": 12,
   "id": "d59cd515",
   "metadata": {},
   "outputs": [],
   "source": [
    "def optimal_clusters(max_clusters = 10):\n",
    "    WCSS = []\n",
    "    for i in range(2 , max_clusters+1):\n",
    "        classes_ , centroids = kmeans(i , points )\n",
    "        wc = wcss(i , seperate_classes(classes_ , i) , centroids)\n",
    "        WCSS.append(wc)\n",
    "    return WCSS\n"
   ]
  },
  {
   "cell_type": "code",
   "execution_count": null,
   "id": "0aaafbe9",
   "metadata": {},
   "outputs": [],
   "source": [
    "wcss_ = optimal_clusters()"
   ]
  },
  {
   "cell_type": "code",
   "execution_count": null,
   "id": "949e893b",
   "metadata": {},
   "outputs": [],
   "source": [
    "wcss_"
   ]
  },
  {
   "cell_type": "code",
   "execution_count": null,
   "id": "804540c0",
   "metadata": {},
   "outputs": [],
   "source": [
    "plt.plot(range(2,11),wcss_)"
   ]
  },
  {
   "cell_type": "code",
   "execution_count": null,
   "id": "787eada8",
   "metadata": {},
   "outputs": [],
   "source": [
    "optimal_cluster = 3\n"
   ]
  },
  {
   "cell_type": "code",
   "execution_count": null,
   "id": "f5ffcfe3",
   "metadata": {},
   "outputs": [],
   "source": [
    "class_ , centroids = kmeans(optimal_cluster , points)\n"
   ]
  },
  {
   "cell_type": "code",
   "execution_count": null,
   "id": "4fc8d078",
   "metadata": {},
   "outputs": [],
   "source": [
    "c1_x = []\n",
    "c1_y = []\n",
    "c2_x = []\n",
    "c2_y = []\n",
    "c3_x = []\n",
    "c3_y = []\n",
    "ind = 0\n",
    "for i in class_:\n",
    "    if i == 0:\n",
    "        c1_x.append(points[ind][0])\n",
    "        c1_y.append(points[ind][1])\n",
    "    elif i ==1:\n",
    "        c2_x.append(points[ind][0])\n",
    "        c2_y.append(points[ind][1])\n",
    "    elif i==2:\n",
    "        c3_x.append(points[ind][0])\n",
    "        c3_y.append(points[ind][1])\n",
    "    ind+=1"
   ]
  },
  {
   "cell_type": "code",
   "execution_count": null,
   "id": "702acfdd",
   "metadata": {},
   "outputs": [],
   "source": [
    "plt.scatter(c1_x , c1_y , c = 'red')\n",
    "plt.scatter(c2_x , c2_y , c = 'blue')\n",
    "plt.scatter(c3_x , c3_y , c = 'green')\n",
    "plt.plot(centroids[0][0], centroids[0][1], marker=\"o\", markersize=5, markeredgecolor=\"black\", markerfacecolor=\"black\")\n",
    "plt.plot(centroids[1][0], centroids[1][1], marker=\"o\", markersize=5, markeredgecolor=\"black\", markerfacecolor=\"black\")\n",
    "plt.plot(centroids[2][0], centroids[2][1], marker=\"o\", markersize=5, markeredgecolor=\"black\", markerfacecolor=\"black\")"
   ]
  },
  {
   "cell_type": "code",
   "execution_count": null,
   "id": "e90c704b",
   "metadata": {},
   "outputs": [],
   "source": []
  },
  {
   "cell_type": "code",
   "execution_count": null,
   "id": "cf36d713",
   "metadata": {},
   "outputs": [],
   "source": []
  }
 ],
 "metadata": {
  "kernelspec": {
   "display_name": "Python 3 (ipykernel)",
   "language": "python",
   "name": "python3"
  },
  "language_info": {
   "codemirror_mode": {
    "name": "ipython",
    "version": 3
   },
   "file_extension": ".py",
   "mimetype": "text/x-python",
   "name": "python",
   "nbconvert_exporter": "python",
   "pygments_lexer": "ipython3",
   "version": "3.9.13"
  }
 },
 "nbformat": 4,
 "nbformat_minor": 5
}
